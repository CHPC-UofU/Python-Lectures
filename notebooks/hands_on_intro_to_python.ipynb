{
 "cells": [
  {
   "cell_type": "markdown",
   "metadata": {
    "slideshow": {
     "slide_type": "slide"
    }
   },
   "source": [
    "# Hands-on Intro to Python"
   ]
  },
  {
   "cell_type": "code",
   "execution_count": null,
   "metadata": {},
   "outputs": [],
   "source": [
    "def hands_on_intro_to_python():\n",
    "    \"\"\"\n",
    "    This is a hands-on introduction to python.\n",
    "    Your instuctors are Brett Milash and Wim Cardoen of the \n",
    "    University of Utah's Center for High Performance Computing.\n",
    "    You can run this code by typing Shift+Return \n",
    "    \"\"\"\n",
    "    import sys\n",
    "    print(f\"We will use python version {sys.version_info.major}.{sys.version_info.minor}\")\n",
    "\n",
    "help(hands_on_intro_to_python)\n",
    "hands_on_intro_to_python()"
   ]
  },
  {
   "cell_type": "markdown",
   "metadata": {
    "slideshow": {
     "slide_type": "slide"
    }
   },
   "source": [
    "## Characteristics of the language\n",
    "* Interpreted\n",
    "* Object-oriented\n",
    "  * Data and functions (called \"methods\") are packaged together into objects\n",
    "  * An object's methods are used to manipulate that object's data\n",
    "  * Objects are organized into \"classes\", which define the objects' methods & data\n",
    "  * \"Inheritance\" makes it easy to create new classes from existing ones\n",
    "  * Great way to organize your code (and your thinking!)\n",
    "* Leading white space (indentation) is significant\n",
    "  * Level of indentation defines \"blocks\" of code\n",
    "  * Either tabs OR spaces - choose one or the other!"
   ]
  },
  {
   "cell_type": "markdown",
   "metadata": {
    "slideshow": {
     "slide_type": "slide"
    }
   },
   "source": [
    "## Running python code\n",
    "* Interactively (typing python statements at the interpreter)\n",
    "* In a script\n",
    "    * Run the interpreter with your script as an argument: \"python scriptname.py ...\"\n",
    "    * As an executable script: \"#!/usr/bin/env python\"\n",
    "* In a cell in a jupyter notebook (when you type Shift+Return or Shift+Enter)"
   ]
  },
  {
   "cell_type": "code",
   "execution_count": null,
   "metadata": {},
   "outputs": [],
   "source": [
    "# This is a comment - it doesn't get executed when you type Shift+Return.\n",
    "import math\n",
    "radius = 1\n",
    "area = math.pi * radius * radius\n",
    "print(f\"The area of a circle with radius {radius} is {area}.\")\n",
    "# Try changing the radius and re-running the code."
   ]
  },
  {
   "cell_type": "markdown",
   "metadata": {
    "slideshow": {
     "slide_type": "slide"
    }
   },
   "source": [
    "## Jupyter Notebook Basics:\n",
    "\n",
    "* Started as IPython Notebook (i.e. Python Project)\n",
    "* Has a <font color=\"green\"><b>modal</b></font> user interface.<br>\n",
    "  It means that <font color=\"blue\">*depending on the mode*</font>,\n",
    "  the keyboard operates in 2 different ways."
   ]
  },
  {
   "cell_type": "markdown",
   "metadata": {
    "slideshow": {
     "slide_type": "subslide"
    }
   },
   "source": [
    "The <font color=\"red\"><b>2 different modes</b></font> are:\n",
    "* **<font color=\"green\">Edit mode</font>**: \n",
    "    * Green bar on side of cell\n",
    "    * Prompt in cell\n",
    "    * Pencil on top right\n",
    "* **<font color=\"blue\">Command Mode</font>**:\n",
    "    * Blue bar on side of cell\n",
    "    * Gray in cell\n",
    "\n",
    "* To enter **<font color=\"blue\">Command Mode</font>**, press the **<font color=\"blue\">ESC</font>** button or click with mouse outside cell\n",
    "* To enter **<font color=\"green\">Edit Mode</font>**, press **<font color=\"green\">ENTER</font>** or click within mouse inside cell\n",
    "* To execute cells: (SHIFT + ENTER)\n",
    "* TAB completion  (<b><font color=\"red\">Extremely useful!!</font></b>)"
   ]
  },
  {
   "cell_type": "markdown",
   "metadata": {
    "slideshow": {
     "slide_type": "subslide"
    }
   },
   "source": [
    "## Command Mode Shortcuts:\n",
    "* Navigation (cfr. Vi(m))\n",
    "  * k: up (select cell above)\n",
    "  * j: down (select cell below)  \n",
    "* Save Notebook: s \n",
    "* Cell creation:\n",
    "  * a: above\n",
    "  * b: below   \n",
    "* Change Cell Type:\n",
    "  * m: markdown\n",
    "  * y: code\n",
    "  * r: raw (unformatted text)"
   ]
  },
  {
   "cell_type": "markdown",
   "metadata": {
    "slideshow": {
     "slide_type": "subslide"
    }
   },
   "source": [
    "## More Command Mode Shortcuts:\n",
    "* Cell editing:\n",
    "  * c: copy selected cell\n",
    "  * x: cut selected cell\n",
    "  * v: paste to cell below\n",
    "  * z: undelete cell\n",
    "  * d,d: delete selected cell\n",
    "  * 1,2,...6: Select cell header (size)\n",
    "\n",
    "    \n",
    "(see also Help Button)"
   ]
  },
  {
   "cell_type": "markdown",
   "metadata": {
    "slideshow": {
     "slide_type": "slide"
    }
   },
   "source": [
    "## Big Concepts\n",
    "* Variables - these hold one or more data values or objects\n",
    "* Statements (and operators) - these do stuff, they are the verbs of the language\n",
    "* Functions - these are reusable blocks of code\n",
    "* Classes - these define all the different types of objects: their data, methods, etc.\n",
    "* Modules - entire files of python code, containing variables, functions, and classes"
   ]
  },
  {
   "cell_type": "markdown",
   "metadata": {
    "slideshow": {
     "slide_type": "slide"
    }
   },
   "source": [
    "## Variables\n",
    "* Simple values\n",
    "  * Numbers (integers, real numbers, complex numbers)\n",
    "  * Character strings\n",
    "  * Boolean values (True, False)\n",
    "  * Individual objects (ie a single instance of a class)\n",
    "  * None (the empty/unknown value)\n",
    "* Compound values\n",
    "  * Lists\n",
    "  * Dictionaries\n",
    "  * Sets\n",
    "  * Tuples"
   ]
  },
  {
   "cell_type": "markdown",
   "metadata": {
    "slideshow": {
     "slide_type": "slide"
    }
   },
   "source": [
    "## Create some simple variables"
   ]
  },
  {
   "cell_type": "code",
   "execution_count": null,
   "metadata": {},
   "outputs": [],
   "source": [
    "# Lets define some variables using the assignment operator \"=\".\n",
    "x=1\n",
    "y=\"Here is a character string\"\n",
    "# What is the type of data assigned to x and y?\n",
    "print( \"The value of x is\", x, \"and its type is\",type(x))\n",
    "print( \"The value of y is\", y, \"and its type is\",type(y))\n",
    "\n",
    "# Now assign the value \"hello world\" to x. What is the type of x now?\n",
    "\n",
    "# Assign the value of True or False to a variable. What type is that variable?\n"
   ]
  },
  {
   "cell_type": "markdown",
   "metadata": {},
   "source": [
    "Notice how the type of value assigned to x has changed - python is a **dynamically typed** language."
   ]
  },
  {
   "cell_type": "markdown",
   "metadata": {
    "slideshow": {
     "slide_type": "slide"
    }
   },
   "source": [
    "## Operators\n",
    "\n",
    "Python has all the operators you typically find in a programming language.\n",
    "\n",
    "* Assignment operator: =\n",
    "* Arithmetic operators: +, -, \\*, /, +=, -=, \\*=, /=, \\*\\* (exponentiation), % (modulo), // (floor division)\n",
    "* Comparison operators: ==, !=, <, >, <=, >=\n",
    "* Logical operators: and, or, not\n",
    "* Bitwise operators: << (left shift), >> (right shift), | (bitwise or), & (bitwise and), ^ (complement)\n",
    "* Identity / membership operators: is, in\n",
    "\n",
    "More on operators here: https://docs.python.org/3/library/stdtypes.html#"
   ]
  },
  {
   "cell_type": "markdown",
   "metadata": {
    "slideshow": {
     "slide_type": "slide"
    }
   },
   "source": [
    "## Strings\n",
    "\n",
    "* A string is a sequence of characters enclosed in single quotes or double quotes\n",
    "* \"Short\" strings fit onto one line, like \"here is a string\"\n",
    "* \"Long\" strings don't fit on one line, and are enclosed in \"triple\" quotes."
   ]
  },
  {
   "cell_type": "code",
   "execution_count": null,
   "metadata": {},
   "outputs": [],
   "source": [
    "s1 = 'Here is a short string.'\n",
    "s2 = \"Here's another short string. Note it contains a single quote.\"\n",
    "s3 = \"\"\"This is a long string.\n",
    "It's content includes multiple lines of text.\"\"\"\n",
    "print(s1 + s2)\n",
    "print(s3)"
   ]
  },
  {
   "cell_type": "code",
   "execution_count": null,
   "metadata": {},
   "outputs": [],
   "source": [
    "# f-strings are an easy way to format text.\n",
    "version_number = 3.6\n",
    "s4 = f\"This is an f-string. Its great for formatting text, and was added in python version {version_number}.\"\n",
    "print(s4)"
   ]
  },
  {
   "cell_type": "markdown",
   "metadata": {
    "slideshow": {
     "slide_type": "slide"
    }
   },
   "source": [
    "## Strings have some useful operators and methods."
   ]
  },
  {
   "cell_type": "code",
   "execution_count": null,
   "metadata": {},
   "outputs": [],
   "source": [
    "# You can multiply and add them:\n",
    "s1=\"abcde|\" * 3 + \"xyz\"\n",
    "print(s1)\n",
    "# You can split them by some delimiter character:\n",
    "print(s1.split(\"|\"))\n",
    "print(s1.upper())\n",
    "# You can access specific substrings in them:\n",
    "print(s1[0:3], s1[5], s1[-3:])\n",
    "# Strings have a length:\n",
    "print(f\"s1 is {len(s1)} characters long.\")"
   ]
  },
  {
   "cell_type": "markdown",
   "metadata": {},
   "source": [
    "For more on strings see the [Python Tutorial](https://docs.python.org/3.6/tutorial/introduction.html#strings) ."
   ]
  },
  {
   "cell_type": "markdown",
   "metadata": {
    "slideshow": {
     "slide_type": "slide"
    }
   },
   "source": [
    "## Lists\n",
    "\n",
    "* Ordered collection of 0 or more elements\n",
    "* Elements don't have to be unique\n",
    "* Elements can be various types, even other lists\n",
    "* Mutable (ie you can add and remove elements, change order, etc)\n",
    "* To create a list:\n",
    "  * **\\[** element1, element2, element3, ... **\\]** creates a new list\n",
    "  * list() turns its single argument into a list\n",
    "  * List comprehension - we'll get to this later\n",
    "* Pros - incredibly flexible. Cons - slow."
   ]
  },
  {
   "cell_type": "markdown",
   "metadata": {
    "slideshow": {
     "slide_type": "subslide"
    }
   },
   "source": [
    "## List operators"
   ]
  },
  {
   "cell_type": "code",
   "execution_count": null,
   "metadata": {
    "scrolled": true,
    "slideshow": {
     "slide_type": "-"
    }
   },
   "outputs": [],
   "source": [
    "# Lets create some lists:\n",
    "a1=['a','x','b','w','d','e']\n",
    "print(a1)\n",
    "print( f\"Length of a1 is {len(a1)}.\")\n",
    "a2=['z']\n",
    "# Some operators work on lists:\n",
    "print(a1+a2, a2*3)\n",
    "# And some don't:\n",
    "print(a1/2)"
   ]
  },
  {
   "cell_type": "markdown",
   "metadata": {
    "slideshow": {
     "slide_type": "subslide"
    }
   },
   "source": [
    "## Some list methods at work"
   ]
  },
  {
   "cell_type": "code",
   "execution_count": null,
   "metadata": {
    "scrolled": true
   },
   "outputs": [],
   "source": [
    "l=['a','x','b','w','d','e']\n",
    "l.remove('a')\n",
    "print(\"With 'a' removed:\", l)\n",
    "l.sort()\n",
    "print(\"Sorted:\",l)\n",
    "l.reverse()\n",
    "print(\"Reversed:\",l)\n",
    "l.append('p')\n",
    "print(\"With 'p' appended:\",l)\n",
    "print(\"Last element (which has been removed):\", l.pop())\n",
    "print(\"First element (which has been removed):\", l.pop(0))"
   ]
  },
  {
   "cell_type": "markdown",
   "metadata": {
    "slideshow": {
     "slide_type": "slide"
    }
   },
   "source": [
    "## Accessing list elements by index\n",
    "Like strings, you can access individual list elements by index:"
   ]
  },
  {
   "cell_type": "code",
   "execution_count": null,
   "metadata": {},
   "outputs": [],
   "source": [
    "m = ['a','b','c','d','e','f','g','h','i','j','k','l','m']\n",
    "\n",
    "print(m, m[0], m[-1])\n",
    "print(m[0:3], m[0:8:2])"
   ]
  },
  {
   "cell_type": "markdown",
   "metadata": {
    "slideshow": {
     "slide_type": "slide"
    }
   },
   "source": [
    "## Functions\n",
    "Functions are reusable chunks for python code. They (usually) have a name, they can take 0 or more arguments, and they may (or may not) return a value.<br>\n",
    "This is the general lay-out of a function in Python:"
   ]
  },
  {
   "cell_type": "code",
   "execution_count": null,
   "metadata": {
    "scrolled": true
   },
   "outputs": [],
   "source": [
    "def function_name( argument1, argument2, argumentn=\"default_value\"):\n",
    "    \"This is the documentation string (or docstring) for function_name\"\n",
    "    # The body of the function goes here:\n",
    "    print(\"argument 1's value:\",argument1)\n",
    "    print(\"argument 2's value:\",argument2)\n",
    "    print(\"argument n's value:\",argumentn)\n",
    "    \n",
    "x=function_name('a',2)\n",
    "print(\"function_name returned\",x)\n",
    "help(function_name)"
   ]
  },
  {
   "cell_type": "raw",
   "metadata": {
    "scrolled": true,
    "slideshow": {
     "slide_type": "subslide"
    }
   },
   "source": [
    "def function_name( argument1, argument2, argumentn=\"default_value\"):\n",
    "    \"This is the documentation string (or docstring) for function_name\"\n",
    "    # The body of the function goes here:\n",
    "    print(\"argument 1's value:\",argument1)\n",
    "    print(\"argument 2's value:\",argument2)\n",
    "    print(\"argument n's value:\",argumentn)"
   ]
  },
  {
   "cell_type": "markdown",
   "metadata": {
    "slideshow": {
     "slide_type": "-"
    }
   },
   "source": [
    "\n",
    "* Function announced with the <font color=\"red\"><b>def</b></font> keyword\n",
    "* Followed by the function name\n",
    "* Followed by the argument list of 0 or more arguments in parentheses\n",
    "* <font color=\"green\"><b>Recommendation</b></font> :: use doc strings\n",
    "* Body of the function\n",
    "* return (value1,value2,...)\n",
    "* If there is no return statement then the function returns <font color=\"red\"><b>None</b></font>"
   ]
  },
  {
   "cell_type": "markdown",
   "metadata": {
    "slideshow": {
     "slide_type": "slide"
    }
   },
   "source": [
    "## Exercise: Hello World function\n",
    "In the following cell, create a function named hello_world that takes no arguments, prints \"Hello, world!\", and doesn't return anything. Then, call your function."
   ]
  },
  {
   "cell_type": "code",
   "execution_count": null,
   "metadata": {},
   "outputs": [],
   "source": []
  },
  {
   "cell_type": "markdown",
   "metadata": {
    "slideshow": {
     "slide_type": "slide"
    }
   },
   "source": [
    "## Anonymous functions (lambda expressions)\n",
    "Some statements take a function as an argument. **map()** is one such statement:"
   ]
  },
  {
   "cell_type": "code",
   "execution_count": null,
   "metadata": {},
   "outputs": [],
   "source": [
    "def divide_by_ten(x):\n",
    "    return(x/10.0)\n",
    "\n",
    "numbers = list(range(0,100))\n",
    "tenths = list(map(divide_by_ten,numbers))\n",
    "print(numbers[0:5],tenths[0:5])"
   ]
  },
  {
   "cell_type": "markdown",
   "metadata": {},
   "source": [
    "But defining a new function for something so trivial, that I may only use once, is really klunky. So I can use \"lambda\" to create an anonymous function:"
   ]
  },
  {
   "cell_type": "code",
   "execution_count": null,
   "metadata": {},
   "outputs": [],
   "source": [
    "numbers = list(range(0,100))\n",
    "tenths = list( map( lambda x: x/10.0, numbers))\n",
    "print(numbers[0:5],tenths[0:5])"
   ]
  },
  {
   "cell_type": "markdown",
   "metadata": {},
   "source": [
    "More on anonymous functions int the [Python Tutorial](https://docs.python.org/3.6/tutorial/controlflow.html#lambda-expressions \"Python Tutorial\") ."
   ]
  },
  {
   "cell_type": "markdown",
   "metadata": {
    "slideshow": {
     "slide_type": "slide"
    }
   },
   "source": [
    "## Flow control: the if / elif / else statement\n",
    "Its imperative that your code can branch depending on different situations that arise. The `if` statement lets you do this:"
   ]
  },
  {
   "cell_type": "code",
   "execution_count": null,
   "metadata": {},
   "outputs": [],
   "source": [
    "gender='F'\n",
    "if gender == 'M':\n",
    "    print(\"Person is of male gender\")\n",
    "elif gender == 'F':\n",
    "    print(\"Person is of female gender\")\n",
    "else:\n",
    "    print(\"Gender not specified!\")"
   ]
  },
  {
   "cell_type": "markdown",
   "metadata": {},
   "source": [
    "Both the `elif` and `else` clauses are optional. Note the white space before the `print` statements - that indentation is significant!"
   ]
  },
  {
   "cell_type": "markdown",
   "metadata": {
    "slideshow": {
     "slide_type": "slide"
    }
   },
   "source": [
    "## Return statement\n",
    "Frequently you want to return one or more values from a function back to the code that called it. To do this we use the **return** statement:"
   ]
  },
  {
   "cell_type": "raw",
   "metadata": {},
   "source": [
    "# Return a single value:\n",
    "return x\n",
    "# Return multiple values as a tuple (more on tuples later):\n",
    "return ( mean, std_deviation )"
   ]
  },
  {
   "cell_type": "markdown",
   "metadata": {},
   "source": [
    "For more on functions and the return statement see the [Python Tutorial](https://docs.python.org/3.6/tutorial/controlflow.html#defining-functions)."
   ]
  },
  {
   "cell_type": "markdown",
   "metadata": {
    "slideshow": {
     "slide_type": "slide"
    }
   },
   "source": [
    "## Exercise: Odd or Even function\n",
    "Create a function that takes one argument and returns the string \"odd\" or \"even\", depending on whether the argument is an odd number or an even number. Assume for now that the argument is a positive integer."
   ]
  },
  {
   "cell_type": "code",
   "execution_count": null,
   "metadata": {},
   "outputs": [],
   "source": []
  },
  {
   "cell_type": "markdown",
   "metadata": {
    "slideshow": {
     "slide_type": "slide"
    }
   },
   "source": [
    "## Exercise: Factorial function\n",
    "Create a function named \"factorial\" that takes one argument, n, and returns n! (ie n * (n-1 * (n-2 ... (* 1)))). Try implementing this as a recursive function (a function that calls itself).<br>\n",
    "**Warning** - make sure your code tests when to end the recursion!"
   ]
  },
  {
   "cell_type": "code",
   "execution_count": null,
   "metadata": {},
   "outputs": [],
   "source": []
  },
  {
   "cell_type": "markdown",
   "metadata": {
    "slideshow": {
     "slide_type": "slide"
    }
   },
   "source": [
    "## File input / output (I/O)\n",
    "Its useful to read data from files, or write data to files. This is done through file objects, which are created using the `open()` statement. Files can be opened for reading (\"r\"), writing (\"w\"), or appending (\"a\"):"
   ]
  },
  {
   "cell_type": "code",
   "execution_count": null,
   "metadata": {},
   "outputs": [],
   "source": [
    "input_file = open(\"popular_dog_names.txt\",\"r\")    # Open a file for reading.\n",
    "first_line = input_file.readline()                # Read one line.\n",
    "print(f\"Read this data from the file: {first_line}\")\n",
    "output_file = open(\"tmpfile.txt\",\"w\")             # Open another file for writing. This erases the file if it exists.\n",
    "output_file.write(first_line)\n",
    "output_file.close()\n",
    "! ls -l tmpfile.txt\n",
    "! cat tmpfile.txt"
   ]
  },
  {
   "cell_type": "markdown",
   "metadata": {
    "slideshow": {
     "slide_type": "subslide"
    }
   },
   "source": [
    "## File I/O and the with statement\n",
    "A common pattern in Python is:\n",
    ">Open a file. \n",
    ">If all goes right, read from or write to the file. \n",
    ">Close the file.\n",
    "\n",
    "This is so common that Python provides a statement to simplify this: `with`"
   ]
  },
  {
   "cell_type": "code",
   "execution_count": null,
   "metadata": {
    "scrolled": false
   },
   "outputs": [],
   "source": [
    "with open(\"popular_dog_names.txt\") as input_file:\n",
    "    all_lines = input_file.readlines()\n",
    "    print(f\"The file contains {len(all_lines)} lines of data.\")\n",
    "    print(f\"The first line is '{all_lines[0]}'\")\n",
    "    print(f\"The last line is '{all_lines[-1]}'\")"
   ]
  },
  {
   "cell_type": "markdown",
   "metadata": {},
   "source": [
    "At the end of the **with** clause the file is closed."
   ]
  },
  {
   "cell_type": "markdown",
   "metadata": {
    "slideshow": {
     "slide_type": "slide"
    }
   },
   "source": [
    "## For loops\n",
    "For loops let you process each item in series of items, for example each item in a list:"
   ]
  },
  {
   "cell_type": "code",
   "execution_count": null,
   "metadata": {
    "scrolled": true
   },
   "outputs": [],
   "source": [
    "for letter in [ 'a', 'e', 'i', 'o', 'u']:\n",
    "    print(letter)"
   ]
  },
  {
   "cell_type": "markdown",
   "metadata": {
    "slideshow": {
     "slide_type": "subslide"
    }
   },
   "source": [
    "## The range() command\n",
    "The `range(start,stop,[stepsize=1])` command returns a list-like object containing integers from start to stop-1. This is useful for all kinds of list processing and for-loop control:"
   ]
  },
  {
   "cell_type": "code",
   "execution_count": null,
   "metadata": {},
   "outputs": [],
   "source": [
    "element_names=['hydrogen','helium','lithium','berylium','boron','carbon','nitrogen','oxygen','fluorine']\n",
    "for i in range(0,len(element_names)):\n",
    "    print( f\"Item {i} in the list is {element_names[i]}.\")"
   ]
  },
  {
   "cell_type": "markdown",
   "metadata": {
    "slideshow": {
     "slide_type": "subslide"
    }
   },
   "source": [
    "## List comprehension\n",
    "For loops are handy for populating lists. You could write this:"
   ]
  },
  {
   "cell_type": "code",
   "execution_count": null,
   "metadata": {},
   "outputs": [],
   "source": [
    "squared_integers = []\n",
    "for i in range(0,10):\n",
    "    squared_integers.append( i * i )\n",
    "squared_integers"
   ]
  },
  {
   "cell_type": "markdown",
   "metadata": {},
   "source": [
    "But its easier to write this:"
   ]
  },
  {
   "cell_type": "code",
   "execution_count": null,
   "metadata": {},
   "outputs": [],
   "source": [
    "squared_integers = [ i * i for i in range(0,10) ]\n",
    "squared_integers"
   ]
  },
  {
   "cell_type": "markdown",
   "metadata": {},
   "source": [
    "This is \"list comprehension\".\n",
    "For more details see the [Python Tutorial](https://docs.python.org/3.6/tutorial/datastructures.html#list-comprehensions \"Python Tutorial\") ."
   ]
  },
  {
   "cell_type": "markdown",
   "metadata": {
    "slideshow": {
     "slide_type": "slide"
    }
   },
   "source": [
    "## Sets\n",
    "* A set is a collection of **unique** objects.\n",
    "* You can create sets with the **set()** command or with the **\\{** and **\\}** symbols.\n",
    "* You can also do set comprehensions.\n",
    "* Sets have all the methods and operators you'd expect: union, intersect, etc.\n",
    "* More on sets [here](https://docs.python.org/3/tutorial/datastructures.html#sets \"Python Tutorial\") ."
   ]
  },
  {
   "cell_type": "code",
   "execution_count": null,
   "metadata": {},
   "outputs": [],
   "source": [
    "import random, string\n",
    "random_letters = { random.choice( string.ascii_lowercase) for i in range(20) }\n",
    "print( f\"The random_letters set contains {len(random_letters)} unique letters.\")\n",
    "vowels = set(['a', 'e', 'i', 'o', 'u'])\n",
    "print( f\"random_letters contains these vowels: {random_letters.intersection(vowels)}.\")\n",
    "print( f\"random_letters contains these consonants: {random_letters.difference(vowels)}.\")"
   ]
  },
  {
   "cell_type": "markdown",
   "metadata": {
    "slideshow": {
     "slide_type": "slide"
    }
   },
   "source": [
    "## Exercise: Dog name finder\n",
    "The file \"popular_dog_names.txt\" lists the 10 most popular names for female and male dogs in 2016 (according to the [American Kennel Club](https://www.akc.org/expert-advice/news/popular-dog-names-2016/)). Write a function that accepts a proposed dog name, and checks the popular_dog_names.txt file to see if that name is popular. If it is, print that the proposed name is popular, its rank, and for what gender of dog. If the proposed name is not found, print that the name wasn't found."
   ]
  },
  {
   "cell_type": "code",
   "execution_count": null,
   "metadata": {},
   "outputs": [],
   "source": []
  },
  {
   "cell_type": "markdown",
   "metadata": {
    "slideshow": {
     "slide_type": "slide"
    }
   },
   "source": [
    "## Tuples\n",
    "* Tuples are immutable ordered collections of objects\n",
    "* The objects can be of various types\n",
    "* You can create them with the **\\(** and **\\)** symbols, or with the tuple() command"
   ]
  },
  {
   "cell_type": "code",
   "execution_count": null,
   "metadata": {},
   "outputs": [],
   "source": [
    "days_of_the_week=('mon','tue','wed','thur','fri','sat','sun')\n",
    "print(f\"Day 6 is {days_of_the_week[6]}\")\n",
    "days_of_the_week[2]='hump_day'"
   ]
  },
  {
   "cell_type": "markdown",
   "metadata": {},
   "source": [
    "These are handy for returning multiple values from a function: `return ( mean + sd, mean - sd )`"
   ]
  },
  {
   "cell_type": "markdown",
   "metadata": {
    "slideshow": {
     "slide_type": "slide"
    }
   },
   "source": [
    "## Iterators\n",
    "For loops can iterate across a variety of objects, such as lists, sets, tuples, or open files. These objects are all iterators. More on iterators [here](https://docs.python.org/3.6/tutorial/classes.html#iterators \"Python Tutorial\")."
   ]
  },
  {
   "cell_type": "code",
   "execution_count": null,
   "metadata": {},
   "outputs": [],
   "source": [
    "vowel_set={'a','e','i','o','u'}\n",
    "vowel_list=['a','e','i','o','u']\n",
    "for letter in vowel_set:\n",
    "    print(\"Set\",letter)\n",
    "for letter in vowel_list:\n",
    "    print(\"List\",letter)\n",
    "with open(\"popular_dog_names.txt\") as dog_file:\n",
    "    for line in dog_file:\n",
    "        print(\"File:\",line.strip())"
   ]
  },
  {
   "cell_type": "markdown",
   "metadata": {
    "slideshow": {
     "slide_type": "slide"
    }
   },
   "source": [
    "## While loops\n",
    "A while loops tests some logical condition, and executes the body of the loop while that condition evaluates to True:"
   ]
  },
  {
   "cell_type": "code",
   "execution_count": null,
   "metadata": {
    "scrolled": true
   },
   "outputs": [],
   "source": [
    "import random\n",
    "count = 0\n",
    "while random.random() < 0.98:\n",
    "    count+=1\n",
    "print(f\"Found {count} consecutive random numbers less than 0.98.\")"
   ]
  },
  {
   "cell_type": "markdown",
   "metadata": {
    "slideshow": {
     "slide_type": "slide"
    }
   },
   "source": [
    "## Looping control statements\n",
    "Sometimes you want to skip the rest of the body of a loop, and **continue** with the next iteration:"
   ]
  },
  {
   "cell_type": "code",
   "execution_count": null,
   "metadata": {},
   "outputs": [],
   "source": [
    "import string\n",
    "consonants = set()\n",
    "vowels = set(['a','e','i','o','u'])\n",
    "for letter in string.ascii_lowercase:\n",
    "    if letter in vowels:\n",
    "        continue\n",
    "    consonants.add(letter)\n",
    "len(consonants)"
   ]
  },
  {
   "cell_type": "markdown",
   "metadata": {
    "slideshow": {
     "slide_type": "subslide"
    }
   },
   "source": [
    "## Looping control statements\n",
    "Sometimes you need to **break** out of a loop completely, before you've reached the last iteration:"
   ]
  },
  {
   "cell_type": "code",
   "execution_count": null,
   "metadata": {},
   "outputs": [],
   "source": [
    "i=100\n",
    "while i > 0:\n",
    "    print(i)\n",
    "    if i % 7 == 0:\n",
    "        break\n",
    "    i-=1\n",
    "print(f\"The biggest multiple of 7 less than 100 is {i}.\")"
   ]
  },
  {
   "cell_type": "markdown",
   "metadata": {
    "slideshow": {
     "slide_type": "slide"
    }
   },
   "source": [
    "## Pass\n",
    "Sometimes its convenient for a block of code to do nothing at all. (And while not technically a looping control statement, you frequently see **pass** in loops):"
   ]
  },
  {
   "cell_type": "code",
   "execution_count": null,
   "metadata": {},
   "outputs": [],
   "source": [
    "for i in range(0,10):\n",
    "    if i % 3 == 0:\n",
    "        pass\n",
    "    else:\n",
    "        print(f\"Here's a number not divisible by 3: {i}\")"
   ]
  },
  {
   "cell_type": "markdown",
   "metadata": {
    "slideshow": {
     "slide_type": "slide"
    }
   },
   "source": [
    "## Modules\n",
    "* Modules are files of python code (functions, classes, etc) whose names end in \".py\"\n",
    "* They are a great mechanism for code re-use\n",
    "* To use a module you must `import` it:"
   ]
  },
  {
   "cell_type": "code",
   "execution_count": null,
   "metadata": {},
   "outputs": [],
   "source": [
    "# Assume we want to use the cos function from the math module (within Python Standard Library)\n",
    "import math\n",
    "print(f\"The cosine of pi is: {math.cos(math.pi)}\")\n",
    "# Renaming the module name\n",
    "import math as m\n",
    "print(f\"Euler's constant e has the following value: {m.e}\")\n",
    "# We can also proceed as follows (rather dangerous)\n",
    "from math import sin, pi\n",
    "print(f\"The sine of pi/4 is: {sin(pi/4)}\")\n",
    "# And absolutely never do this:\n",
    "from math import *"
   ]
  },
  {
   "cell_type": "markdown",
   "metadata": {
    "slideshow": {
     "slide_type": "subslide"
    }
   },
   "source": [
    "## Where does python find the modules my code imports?\n",
    "* sys.path - list of directories that are searched for modules\n",
    "* This path is defined when python installed, and is augmented by PYTHONPATH environment variable"
   ]
  },
  {
   "cell_type": "code",
   "execution_count": null,
   "metadata": {
    "scrolled": false
   },
   "outputs": [],
   "source": [
    "import sys\n",
    "for directory in sys.path:\n",
    "    print(directory)"
   ]
  },
  {
   "cell_type": "markdown",
   "metadata": {
    "collapsed": true,
    "slideshow": {
     "slide_type": "subslide"
    }
   },
   "source": [
    "## The Python Standard Library\n",
    "* Extensive collection of modules that is installed with python\n",
    "* Most commonly used:\n",
    "    * sys, especially sys.argv (the list of command-line arguments)\n",
    "    * os, especially os.path (tools for manipulating file names)\n",
    "    * time (tools for getting and formatting the system time)\n",
    "    * math\n",
    "    * string\n",
    "* Documented here: https://docs.python.org/3.6/library/index.html"
   ]
  },
  {
   "cell_type": "code",
   "execution_count": null,
   "metadata": {},
   "outputs": [],
   "source": [
    "import sys\n",
    "sys.argv"
   ]
  },
  {
   "cell_type": "markdown",
   "metadata": {
    "collapsed": true,
    "slideshow": {
     "slide_type": "subslide"
    }
   },
   "source": [
    "## What modules are available on my system?\n",
    "<code>\n",
    "help(\"modules\")\n",
    "</code>"
   ]
  },
  {
   "cell_type": "markdown",
   "metadata": {
    "slideshow": {
     "slide_type": "slide"
    }
   },
   "source": [
    "## Module or script?\n",
    "* Is a .py file a module that I import or a script that I run? It can be both.\n",
    "* Common practice: include test code in your modules\n",
    "* Has file been executed as script or imported as a module? The `__name__` variable."
   ]
  },
  {
   "cell_type": "raw",
   "metadata": {},
   "source": [
    "# Example module code:\n",
    "\n",
    "# Function definitions:\n",
    "# Maybe some class definitions:\n",
    "# Yada yada yada:\n",
    "\n",
    "if __name__ == \"__main__\":\n",
    "    execute_test_code_here()"
   ]
  },
  {
   "cell_type": "markdown",
   "metadata": {
    "slideshow": {
     "slide_type": "slide"
    }
   },
   "source": [
    "## Dictionaries\n",
    "* A dictionary (aka a \"hash\" or \"associative array\") is a collection of key:value pairs. \n",
    "* The keys must be unique. Keys and values can be of any type.\n",
    "* The lookup on a key is **extremely** fast."
   ]
  },
  {
   "cell_type": "code",
   "execution_count": null,
   "metadata": {},
   "outputs": [],
   "source": [
    "elements = { 'H':'hydrogen', 'He':'helium', 'Li':'lithium', 'Be':'berylium'}\n",
    "elements['B'] = 'boron'\n",
    "print( f\"The element whose symbol is H is {elements['H']}.\")\n",
    "print( f\"Does the dictionary include carbon? {'C' in elements} .\")\n",
    "print( \"Here are the symbols:\", list(elements.keys()) )\n",
    "print( f\"The element name for symbol 'Po' is: {elements.get('Po','unknown')}.\")"
   ]
  },
  {
   "cell_type": "markdown",
   "metadata": {
    "slideshow": {
     "slide_type": "subslide"
    }
   },
   "source": [
    "## More dictionaries"
   ]
  },
  {
   "cell_type": "code",
   "execution_count": null,
   "metadata": {},
   "outputs": [],
   "source": [
    "print( f\"The element whose symbol is N is {elements['N']}.\")"
   ]
  },
  {
   "cell_type": "markdown",
   "metadata": {},
   "source": [
    "An attempt to access missing a key generates a KeyError exception. We'll learn about exception handling next.<br>\n",
    "For more on dictionaries see the [Python Tutorial](https://docs.python.org/3/tutorial/datastructures.html#dictionaries \"Python Tutorial\") ."
   ]
  },
  {
   "cell_type": "markdown",
   "metadata": {
    "slideshow": {
     "slide_type": "slide"
    }
   },
   "source": [
    "## Exercise: Improved Hello World function"
   ]
  },
  {
   "cell_type": "code",
   "execution_count": null,
   "metadata": {},
   "outputs": [],
   "source": [
    "# Revise this hello_world function so that it can greet you in several different languages. \n",
    "# Your function must accept one argument, which is the language to use for the greeting, \n",
    "# and that argument should default to some language if no value is given. \n",
    "# Hint: this is a nice use case for a dictionary.\n",
    "def hello_world():\n",
    "    print(\"Hello, world!\")"
   ]
  },
  {
   "cell_type": "markdown",
   "metadata": {
    "slideshow": {
     "slide_type": "slide"
    }
   },
   "source": [
    "## Exercise: Bioinformatics! DNA to protein translation\n",
    "This exercise puts it all together: functions, strings, modules, and dictionaries. <br>\n",
    "The [genetic code](https://en.wikipedia.org/wiki/Genetic_code \"Wikipedia\") provides a mapping from the 4-letter alphabet of DNA (A, C, G, and T) to the 20-letter code of amino acids, that make up proteins. Three consecutive DNA \"letters\" map onto a single amino acid letter. For example, the DNA string \"ATG\" maps onto the amino acid letter \"M\". Using the provided module \"geneticcode.py\" which defines the genetic code as a dictionary named \"codons\", write a function that translates a DNA string to its amino acid sequence."
   ]
  },
  {
   "cell_type": "code",
   "execution_count": null,
   "metadata": {},
   "outputs": [],
   "source": [
    "# Here's a DNA sequence to translate:\n",
    "dna_sequence = \"ATGGAGGAGCCGCAGTCAGATCCTAGCGTCGAGCCC\"\n",
    "# Write a function that translates this into an amino acid sequence, using the codons dictionary from the \n",
    "# geneticcode module, and call your function with this sequence. This 36-letter DNA sequence should translate\n",
    "# into a 12-letter amino acid sequence."
   ]
  },
  {
   "cell_type": "markdown",
   "metadata": {
    "slideshow": {
     "slide_type": "slide"
    }
   },
   "source": [
    "## Exceptions\n",
    "When something goes wrong, python \"raises\" an exception object."
   ]
  },
  {
   "cell_type": "code",
   "execution_count": null,
   "metadata": {},
   "outputs": [],
   "source": [
    "# Depending on the value of 'symbol' this code might raise an exception:\n",
    "symbol='H'\n",
    "print(f\"The name of element {symbol} is {elements[symbol]}.\")\n",
    "# Rather than testing \"if symbol in elements\", just wrap the code in a try / except statement:\n",
    "symbol='S'\n",
    "try:\n",
    "    print(elements[symbol])\n",
    "except KeyError:\n",
    "    print( f\"Symbol {symbol} not found in elements dictionary!\")"
   ]
  },
  {
   "cell_type": "markdown",
   "metadata": {
    "slideshow": {
     "slide_type": "subslide"
    }
   },
   "source": [
    "## More exceptions\n",
    "You may not know what kind of exception to handle, so you can do it \"generically\":"
   ]
  },
  {
   "cell_type": "code",
   "execution_count": null,
   "metadata": {},
   "outputs": [],
   "source": [
    "try:\n",
    "    quotient = 17 / 0\n",
    "except Exception as e:\n",
    "    print(f\"Whoa, just caught unexpected exception: {type(e)},'{e}'!\")"
   ]
  },
  {
   "cell_type": "markdown",
   "metadata": {
    "slideshow": {
     "slide_type": "subslide"
    }
   },
   "source": [
    "## User-defined exceptions\n",
    "Python defines [lots of exceptions](https://docs.python.org/3.6/library/exceptions.html), but you can create your own too:"
   ]
  },
  {
   "cell_type": "code",
   "execution_count": null,
   "metadata": {},
   "outputs": [],
   "source": [
    "class MyException(Exception):\n",
    "    pass\n",
    "\n",
    "raise MyException(\"Something happened. Here's some information to help you sort it out.\")"
   ]
  },
  {
   "cell_type": "markdown",
   "metadata": {
    "slideshow": {
     "slide_type": "slide"
    }
   },
   "source": [
    "## Classes\n",
    "\n",
    "* A class is the definition of a data type.\n",
    "* **Every** data value in Python belongs to a class.\n",
    "* Each class is a collection of data values and methods.\n",
    "* A single object that belongs to class is an 'instance' of that class.\n",
    "* Classes provide a namespace inside which your code is isolated from outside complexity, and a mechanism for code reuse through inheritance."
   ]
  },
  {
   "cell_type": "markdown",
   "metadata": {
    "slideshow": {
     "slide_type": "subslide"
    }
   },
   "source": [
    "## Class example"
   ]
  },
  {
   "cell_type": "code",
   "execution_count": null,
   "metadata": {},
   "outputs": [],
   "source": [
    "class Person():\n",
    "    \"This class represents a person. (This is the docstring for the whole class.)\"\n",
    "    def __init__(self,first_name,last_name,year_of_birth):\n",
    "        \"Constructor method of the class Person. (This is the docstring for this method.)\"\n",
    "        self.fname = first_name\n",
    "        self.lname = last_name\n",
    "        self.year_born = year_of_birth\n",
    "\n",
    "p = Person(\"Brett\",\"Milash\",1962) # Creating an instance of class Person by calling the Person() function.\n",
    "print(p.fname)\n",
    "print(p)\n",
    "print(type(p))"
   ]
  },
  {
   "cell_type": "markdown",
   "metadata": {
    "slideshow": {
     "slide_type": "subslide"
    }
   },
   "source": [
    "## Special class methods\n",
    "* `__init__()`: class constructor\n",
    "* `__str__()`: string representation of object\n",
    "* `__lt__()`: object comparisons for sorting\n",
    "* `__del__()`: class deconstructor. Called during garbage collection, or at 'del *variable*'"
   ]
  },
  {
   "cell_type": "code",
   "execution_count": null,
   "metadata": {
    "slideshow": {
     "slide_type": "subslide"
    }
   },
   "outputs": [],
   "source": [
    "import time\n",
    "\n",
    "class Person():\n",
    "    \"Here's a more fleshed-out Person example.\"\n",
    "    def __init__(self,fname=\"\",lname=\"\",year_of_birth=0):\n",
    "        \"Constructor of the class Person\"\n",
    "        self.fname = fname\n",
    "        self.lname = lname\n",
    "        self.year_born = year_of_birth\n",
    "\n",
    "    def __str__(self):\n",
    "        return f\"{self.lname}, {self.fname}: born {self.year_born}\"\n",
    "\n",
    "    def __lt__(self,other):\n",
    "        return self.lname < other.lname\n",
    "    \n",
    "    def age(self):\n",
    "        \"Returns person's age in years\"\n",
    "        current_year= time.localtime( time.time() ).tm_year\n",
    "        return current_year - self.year_born\n",
    "\n",
    "rockstars = [ Person(\"Lou\",\"Reed\",1942), Person(\"Iggy\",\"Pop\",1947), Person(\"David\",\"Bowie\",1947), ]\n",
    "rockstars.sort()\n",
    "for rocker in rockstars:\n",
    "    print(f\"{rocker}, age {rocker.age()} years\")"
   ]
  },
  {
   "cell_type": "markdown",
   "metadata": {
    "slideshow": {
     "slide_type": "subslide"
    }
   },
   "source": [
    "## Inheritance\n",
    "- Inheritance lets you create a new class inheriting data and methods from an existing class.\n",
    "- This new class is a \"child\" class derived from a \"parent\" class.\n",
    "- Parent classes are also called \"base\" classes.\n",
    "- You can add or replace methods and data values of the parent class in the child class.\n",
    "- Child class can be derived from one (single inheritance) or several (multiple inheritance) base classes."
   ]
  },
  {
   "cell_type": "markdown",
   "metadata": {
    "slideshow": {
     "slide_type": "subslide"
    }
   },
   "source": [
    "## Inheritance example"
   ]
  },
  {
   "cell_type": "code",
   "execution_count": null,
   "metadata": {
    "scrolled": true
   },
   "outputs": [],
   "source": [
    "class Student(Person):\n",
    "    \"A Student is a Person with a GPA.\"\n",
    "    def __init__(self,fname,lname,year_born,grade_point_average):\n",
    "        Person.__init__(self,fname,lname,year_born) # Calling the parent class constructor.\n",
    "        self.gpa = grade_point_average\n",
    "\n",
    "    def __str__(self):\n",
    "        return f\"{self.lname}, {self.fname}: born {self.year_born}, GPA {self.gpa}\"\n",
    "\n",
    "s = Student(\"Joe\",\"Smith\",1981,3.65)\n",
    "print(s)\n",
    "print(f\"{s.fname} is {s.age()} years old.\")"
   ]
  },
  {
   "cell_type": "markdown",
   "metadata": {
    "slideshow": {
     "slide_type": "subslide"
    }
   },
   "source": [
    "## The python standard library and inheritance\n",
    "The python standard library includes many modules that define base classes from which you derive new classes:\n",
    "* thread\n",
    "* xml.sax (XML parser)\n",
    "* html.parser\n",
    "* httpserver\n",
    "* unittest\n",
    "* Exception"
   ]
  },
  {
   "cell_type": "markdown",
   "metadata": {
    "slideshow": {
     "slide_type": "subslide"
    }
   },
   "source": [
    "## Exercise: classes and inheritance\n",
    "1. In the cell below, create a class named Dog that describes dogs. The constructor (\\_\\_init\\_\\_) should take one argument in addition to self: the dog's name. The class should implement one additional method, which is \"speak()\". The speak() method should **return** some dog-appropriate sound e.g. \"Arf!\". \n",
    "2. Derive a Poodle class from the Dog class such that instances of the Poodle class make a more poodle-appropriate sound, e.g. \"Yip!\".\n",
    "3. Create a list with several instances of both the Dog and Poodle class, and print their names and the return value of the speak() method.\n",
    "\n",
    "Hint: get the code working just with the Dog class. Then, add the Poodle class."
   ]
  },
  {
   "cell_type": "code",
   "execution_count": null,
   "metadata": {},
   "outputs": [],
   "source": []
  },
  {
   "cell_type": "markdown",
   "metadata": {
    "slideshow": {
     "slide_type": "slide"
    }
   },
   "source": [
    "## Programming advice\n",
    "* Don't rely on the operating system's python. Its old, and you don't control it.\n",
    "    * At CHPC load a python module, e.g. \"module load python/3.6.3\".\n",
    "    * Use anaconda or miniconda.\n",
    "* Move to python 3. Python 2 support ends 1/1/2020. https://pythonclock.org/\n",
    "* When editing, save early and save often.\n",
    "* Back your code up with [git](https://www.chpc.utah.edu/documentation/software/git-scm.php) locally, and ideally into a remote software repository.\n",
    "* Write test code, use [assert()](https://docs.python.org/3.6/reference/simple_stmts.html?highlight=assert#the-assert-statement \"Python Docs\"), and learn to use [coverage.py](https://coverage.readthedocs.io/en/v4.5.x/).\n",
    "* Learn to use a debugger ([pdb](https://docs.python.org/3/library/pdb.html), [PyCharm](https://www.jetbrains.com/pycharm/), [IDLE](https://docs.python.org/3.6/library/idle.html)) - much quicker than print() statements!"
   ]
  },
  {
   "cell_type": "markdown",
   "metadata": {
    "slideshow": {
     "slide_type": "slide"
    }
   },
   "source": [
    "## Resources:\n",
    "* Python Tutorial: https://docs.python.org/3.6/tutorial/index.html\n",
    "* Python Standard Library: https://docs.python.org/3.6/library/index.html\n",
    "\n",
    "## Questions?\n",
    "* brett.milash@utah.edu\n",
    "* wim.cardoen@utah.edu\n",
    "* helpdesk@chpc.utah.edu\n",
    "\n",
    "## Thank you for coming!"
   ]
  }
 ],
 "metadata": {
  "celltoolbar": "Slideshow",
  "kernelspec": {
   "display_name": "python3.6",
   "language": "python",
   "name": "python3.6"
  },
  "language_info": {
   "codemirror_mode": {
    "name": "ipython",
    "version": 3
   },
   "file_extension": ".py",
   "mimetype": "text/x-python",
   "name": "python",
   "nbconvert_exporter": "python",
   "pygments_lexer": "ipython3",
   "version": "3.6.6"
  }
 },
 "nbformat": 4,
 "nbformat_minor": 2
}

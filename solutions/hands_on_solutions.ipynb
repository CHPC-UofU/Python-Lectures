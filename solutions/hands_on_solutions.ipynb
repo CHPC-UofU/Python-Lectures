{
 "cells": [
  {
   "cell_type": "markdown",
   "metadata": {
    "slideshow": {
     "slide_type": "slide"
    }
   },
   "source": [
    "## Exercise: Hello World function\n",
    "In the following cell, create a function named hello_world that takes no arguments, prints \"Hello, world!\", and doesn't return anything. Then, call your function."
   ]
  },
  {
   "cell_type": "code",
   "execution_count": 1,
   "metadata": {},
   "outputs": [
    {
     "name": "stdout",
     "output_type": "stream",
     "text": [
      "Hello, world!\n"
     ]
    }
   ],
   "source": [
    "def hello_world():\n",
    "    print(\"Hello, world!\")\n",
    "hello_world()"
   ]
  },
  {
   "cell_type": "markdown",
   "metadata": {
    "slideshow": {
     "slide_type": "slide"
    }
   },
   "source": [
    "## Exercise: Odd or Even function\n",
    "Create a function that takes one argument and returns the string \"odd\" or \"even\", depending on whether the argument is an odd number or an even number. Assume for now that the argument is a positive integer."
   ]
  },
  {
   "cell_type": "code",
   "execution_count": 2,
   "metadata": {},
   "outputs": [
    {
     "name": "stdout",
     "output_type": "stream",
     "text": [
      "1 is odd\n",
      "26 is even\n"
     ]
    }
   ],
   "source": [
    "def odd_or_even( n ):\n",
    "    if n % 2 == 0:\n",
    "        return \"even\"\n",
    "    else:\n",
    "        return \"odd\"\n",
    "\n",
    "print(f\"1 is {odd_or_even(1)}\")\n",
    "print(f\"26 is {odd_or_even(26)}\")"
   ]
  },
  {
   "cell_type": "markdown",
   "metadata": {
    "slideshow": {
     "slide_type": "slide"
    }
   },
   "source": [
    "## Exercise: Factorial function\n",
    "Create a function named \"factorial\" that takes one argument, n, and returns n! (ie n * (n-1 * (n-2 ... (* 1)))). Try implementing this as a recursive function (a function that calls itself).<br>\n",
    "**Warning** - make sure your code tests when to end the recursion!"
   ]
  },
  {
   "cell_type": "code",
   "execution_count": 3,
   "metadata": {},
   "outputs": [
    {
     "data": {
      "text/plain": [
       "40320"
      ]
     },
     "execution_count": 3,
     "metadata": {},
     "output_type": "execute_result"
    }
   ],
   "source": [
    "def factorial(n):\n",
    "    if n <= 1:\n",
    "        return 1\n",
    "    else:\n",
    "        return n * factorial(n-1)\n",
    "\n",
    "factorial(8)"
   ]
  },
  {
   "cell_type": "markdown",
   "metadata": {},
   "source": [
    "## Exercise: Dog name finder\n",
    "The file \"popular_dog_names.txt\" lists the 10 most popular names for female and male dogs in 2016 (according to the [American Kennel Club](https://www.akc.org/expert-advice/news/popular-dog-names-2016/)). Write a function that accepts a proposed dog name, and checks the popular_dog_names.txt file to see if that name is popular. If it is, print that the proposed name is popular, its rank, and for what gender of dog. If the proposed name is not found, print that the name wasn't found."
   ]
  },
  {
   "cell_type": "code",
   "execution_count": 4,
   "metadata": {},
   "outputs": [
    {
     "name": "stdout",
     "output_type": "stream",
     "text": [
      "Maggie is popular, and ranks 10 among female dogs.\n",
      "Fido is not popular, but is interesting and unique!\n"
     ]
    }
   ],
   "source": [
    "def check_name(proposed_name):\n",
    "    name_is_popular = False\n",
    "    with open(\"popular_dog_names.txt\") as input_file:\n",
    "        for line in input_file:\n",
    "            details = line.strip().split(',')\n",
    "            if proposed_name == details[0]:\n",
    "                # Found it!\n",
    "                print(f\"{proposed_name} is popular, and ranks {details[2]} among {details[1]} dogs.\")\n",
    "                name_is_popular = True\n",
    "    if not name_is_popular:\n",
    "        print(f\"{proposed_name} is not popular, but is interesting and unique!\")\n",
    "\n",
    "check_name(\"Maggie\")\n",
    "check_name(\"Fido\")\n",
    "            "
   ]
  },
  {
   "cell_type": "markdown",
   "metadata": {
    "slideshow": {
     "slide_type": "slide"
    }
   },
   "source": [
    "## Exercise: Improved Hello World function"
   ]
  },
  {
   "cell_type": "code",
   "execution_count": 5,
   "metadata": {
    "scrolled": true
   },
   "outputs": [
    {
     "name": "stdout",
     "output_type": "stream",
     "text": [
      "Hello, world!\n",
      "Bonjour, monde!\n",
      "Howdy! Sorry, I don't speak japanese.\n"
     ]
    }
   ],
   "source": [
    "# Revise this hello_world function so that it can greet you in several different languages. \n",
    "# Your function must accept one argument, which is the language to use for the greeting, \n",
    "# and that argument should default to some language if no value is given. \n",
    "# Hint: this is a nice use case for a dictionary.\n",
    "def hello_world(language=\"english\"):\n",
    "    greetings={'english':'Hello, world!', 'french':'Bonjour, monde!'}\n",
    "    greeting = greetings.get(language,f\"Howdy! Sorry, I don't speak {language}.\")\n",
    "    print(greeting)\n",
    "\n",
    "hello_world()\n",
    "hello_world('french')\n",
    "hello_world('japanese')"
   ]
  },
  {
   "cell_type": "code",
   "execution_count": 6,
   "metadata": {
    "scrolled": true
   },
   "outputs": [
    {
     "name": "stdout",
     "output_type": "stream",
     "text": [
      "Hello, world!\n",
      "Bonjour, monde!\n",
      "Howdy! Sorry, I don't speak japanese.\n"
     ]
    }
   ],
   "source": [
    "# Here's another solution to the improved hello_world function. Rather than using the \"get\" method\n",
    "# of the dictionary, this version uses the \"in\" operator.\n",
    "def hello_world(language=\"english\"):\n",
    "    greetings={'english':'Hello, world!', 'french':'Bonjour, monde!'}\n",
    "    # Check if the value in language is one of the keys in the dictionary:\n",
    "    if language in greetings:\n",
    "        print(greetings[language])\n",
    "    else:\n",
    "        print(f\"Howdy! Sorry, I don't speak {language}.\")\n",
    "\n",
    "hello_world()\n",
    "hello_world('french')\n",
    "hello_world('japanese')"
   ]
  },
  {
   "cell_type": "code",
   "execution_count": 7,
   "metadata": {},
   "outputs": [
    {
     "name": "stdout",
     "output_type": "stream",
     "text": [
      "Hello, world!\n",
      "Bonjour, monde!\n",
      "Howdy! Sorry, I don't speak japanese.\n"
     ]
    }
   ],
   "source": [
    "# Here's yet another solution to the improved hello_world function. This version uses\n",
    "# exception handling:\n",
    "def hello_world(language=\"english\"):\n",
    "    greetings={'english':'Hello, world!', 'french':'Bonjour, monde!'}\n",
    "    # This uses the try/except clause to handle a potential KeyError exception:\n",
    "    try:\n",
    "        print(greetings[language])\n",
    "    except KeyError:\n",
    "        print(f\"Howdy! Sorry, I don't speak {language}.\")\n",
    "\n",
    "hello_world()\n",
    "hello_world('french')\n",
    "hello_world('japanese')"
   ]
  },
  {
   "cell_type": "markdown",
   "metadata": {},
   "source": [
    "## Exercise: Bioinformatics! DNA to protein translation\n",
    "This exercise puts it all together: functions, strings, modules, and dictionaries. <br>\n",
    "The genetic code provides a mapping from the 4-letter alphabet of DNA (A, C, G, and T) to the 20-letter code of amino acids, that make up proteins. Three consecutive DNA \"letters\" map onto a single amino acid letter. For example, the DNA string \"ATG\" maps onto the amino acid letter \"M\". Using the provided module \"geneticcode.py\" which defines the genetic code as a dictionary named \"codons\", write a function that translates a DNA string to its amino acid sequence."
   ]
  },
  {
   "cell_type": "code",
   "execution_count": 8,
   "metadata": {},
   "outputs": [
    {
     "data": {
      "text/plain": [
       "'MEEPQSDPSVEP'"
      ]
     },
     "execution_count": 8,
     "metadata": {},
     "output_type": "execute_result"
    }
   ],
   "source": [
    "# Here's a sequence to translate:\n",
    "dna_sequence = \"ATGGAGGAGCCGCAGTCAGATCCTAGCGTCGAGCCC\"\n",
    "# Create a function that translates this to an amino acid sequence, and call your function with this sequence.\n",
    "\n",
    "import geneticcode as gc\n",
    "def translate(sequence):\n",
    "    protein=''\n",
    "    for start in range(0,len(sequence),3):\n",
    "        codon=sequence[start:start+3]\n",
    "        protein += gc.codons[codon]\n",
    "    return protein\n",
    "\n",
    "translate(dna_sequence)"
   ]
  },
  {
   "cell_type": "markdown",
   "metadata": {
    "slideshow": {
     "slide_type": "subslide"
    }
   },
   "source": [
    "## Exercise: classes and inheritance\n",
    "1. In the cell below, create a class named Dog that describes dogs. The constructor (\\_\\_init\\_\\_) should take one argument in addition to self: the dog's name. The class should implement one additional method, which is \"speak()\". The speak() method should **return** some dog-appropriate sound e.g. \"Arf!\". \n",
    "2. Derive a Poodle class from the Dog class such that instances of the Poodle class make a more poodle-appropriate sound, e.g. \"Yip!\".\n",
    "3. Create a list with several instances of both the Dog and Poodle class, and print their names and the return value of the speak() method."
   ]
  },
  {
   "cell_type": "code",
   "execution_count": 9,
   "metadata": {},
   "outputs": [
    {
     "name": "stdout",
     "output_type": "stream",
     "text": [
      "Rex says Arf!\n",
      "Fifi says Yip!\n",
      "Spot says Arf!\n",
      "Spike says Yip!\n"
     ]
    }
   ],
   "source": [
    "class Dog:\n",
    "    \"Class Dog defines a generic dog.\"\n",
    "    def __init__(self,name):\n",
    "        self.name=name\n",
    "    def speak(self):\n",
    "        return \"Arf!\"\n",
    "\n",
    "class Poodle(Dog):\n",
    "    \"\"\"Class Poodle defines a special kind of dog, and is derived from\n",
    "    the Dog class.\"\"\"\n",
    "    def speak(self):\n",
    "        return \"Yip!\" \n",
    "\n",
    "# Create a set.\n",
    "s=list()\n",
    "# Add some dogs to the set.\n",
    "s.append(Dog(\"Rex\"))\n",
    "s.append(Poodle(\"Fifi\"))\n",
    "s.append(Dog(\"Spot\"))\n",
    "s.append(Poodle(\"Spike\"))\n",
    "# For each dog ...\n",
    "for dog in s:\n",
    "    # ... print the dogs name and what it says.\n",
    "    print(dog.name,\"says\",dog.speak())"
   ]
  },
  {
   "cell_type": "code",
   "execution_count": null,
   "metadata": {},
   "outputs": [],
   "source": []
  }
 ],
 "metadata": {
  "kernelspec": {
   "display_name": "python3.6",
   "language": "python",
   "name": "python3.6"
  },
  "language_info": {
   "codemirror_mode": {
    "name": "ipython",
    "version": 3
   },
   "file_extension": ".py",
   "mimetype": "text/x-python",
   "name": "python",
   "nbconvert_exporter": "python",
   "pygments_lexer": "ipython3",
   "version": "3.6.6"
  }
 },
 "nbformat": 4,
 "nbformat_minor": 2
}

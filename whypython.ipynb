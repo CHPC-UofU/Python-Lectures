{
 "cells": [
  {
   "cell_type": "markdown",
   "metadata": {},
   "source": [
    "# Introduction to Python"
   ]
  },
  {
   "cell_type": "markdown",
   "metadata": {},
   "source": [
    "## General considerations"
   ]
  },
  {
   "cell_type": "markdown",
   "metadata": {},
   "source": [
    "* Developed by [Guido van Rossum](https://gvanrossum.github.io/) (1991) <br>\n",
    "  while working at the [Centrum voor Wiskunde en Informatica (CWI)](https://www.cwi.nl/)\n",
    "* Open Source   \n",
    "* Python: interpreted language vs. C, C++, Fortan, .... (compiled languages)\n",
    "* Easy to learn \n",
    "* Allows fast development -> excellent for proto-typing\n",
    "* Object-oriented -> excellent for code reuse\n",
    "* Portable code: Linux, MacOS and Windows\n",
    "* Uses <font color=\"green\"><b>identation</b></font> instead of curly braces \n",
    "- Do <font color=\"red\"><b>NOT</b></font> mix whitespaces and TAB characters\n",
    "* Like C and C++, Python is case sensitive\n",
    "* [PEP 8](http://legacy.python.org/dev/peps/pep-0008/) -- Style Guide for Python Code"
   ]
  },
  {
   "cell_type": "markdown",
   "metadata": {},
   "source": [
    "### Example: C code vs Python code"
   ]
  },
  {
   "cell_type": "markdown",
   "metadata": {},
   "source": [
    "#### C code"
   ]
  },
  {
   "cell_type": "code",
   "execution_count": null,
   "metadata": {
    "collapsed": true
   },
   "outputs": [],
   "source": [
    "%%file square_root.c\n",
    "/* C example */\n",
    "#include <stdio.h>\n",
    "#include <math.h>\n",
    "\n",
    "int main(void)\n",
    "{\n",
    "    double x=17.0;\n",
    "    printf(\"C code::\\n\");\n",
    "    printf(\"The square root of %8.4lf is %12.6lf\\n\", x, sqrt(x));\n",
    "    return 0;\n",
    "}"
   ]
  },
  {
   "cell_type": "markdown",
   "metadata": {},
   "source": [
    "<font color=\"red\"><b>Compilation</b></font> of the C code => object file square_root.o"
   ]
  },
  {
   "cell_type": "code",
   "execution_count": null,
   "metadata": {
    "collapsed": true
   },
   "outputs": [],
   "source": [
    "!gcc -c square_root.c"
   ]
  },
  {
   "cell_type": "markdown",
   "metadata": {},
   "source": [
    "<font color=\"red\"><b>Linking</b></font> the object files with the libraries on the system => square_root_c"
   ]
  },
  {
   "cell_type": "code",
   "execution_count": null,
   "metadata": {
    "collapsed": true
   },
   "outputs": [],
   "source": [
    "!gcc -o square_root_c square_root.o -lm"
   ]
  },
  {
   "cell_type": "markdown",
   "metadata": {},
   "source": [
    "<font color=\"red\"><b>Running</b></font> the executable"
   ]
  },
  {
   "cell_type": "code",
   "execution_count": null,
   "metadata": {},
   "outputs": [],
   "source": [
    "!./square_root_c"
   ]
  },
  {
   "cell_type": "markdown",
   "metadata": {},
   "source": [
    "#### Fortran code"
   ]
  },
  {
   "cell_type": "code",
   "execution_count": null,
   "metadata": {
    "collapsed": true
   },
   "outputs": [],
   "source": [
    "%%file square_root.f90\n",
    "! Fortran example\n",
    "program main\n",
    "\n",
    "    implicit none\n",
    "    double precision :: x = 17.0\n",
    "\n",
    "    write(*,'(A,F8.4,A,F12.6)') \"The square root of \", x, \" is \", sqrt(x)\n",
    "\n",
    "end program     "
   ]
  },
  {
   "cell_type": "code",
   "execution_count": null,
   "metadata": {
    "collapsed": true
   },
   "outputs": [],
   "source": [
    "!gfortran -c square_root.f90\n",
    "!gfortran -o square_root_f square_root.o"
   ]
  },
  {
   "cell_type": "markdown",
   "metadata": {},
   "source": [
    "<font color=\"red\"><b>Running</b></font> the Fortran executable"
   ]
  },
  {
   "cell_type": "code",
   "execution_count": null,
   "metadata": {},
   "outputs": [],
   "source": [
    "!./square_root_f"
   ]
  },
  {
   "cell_type": "markdown",
   "metadata": {},
   "source": [
    "#### Python code"
   ]
  },
  {
   "cell_type": "code",
   "execution_count": null,
   "metadata": {},
   "outputs": [],
   "source": [
    "# Corresponding python snippet\n",
    "import math\n",
    "x=17.0\n",
    "print(\"The square root of\",x,\"is\",math.sqrt(x))"
   ]
  },
  {
   "cell_type": "markdown",
   "metadata": {
    "collapsed": true
   },
   "source": [
    "For this class we will use python version 3."
   ]
  },
  {
   "cell_type": "code",
   "execution_count": null,
   "metadata": {
    "collapsed": true
   },
   "outputs": [],
   "source": []
  }
 ],
 "metadata": {
  "anaconda-cloud": {},
  "kernelspec": {
   "display_name": "Python 3",
   "language": "python",
   "name": "python3"
  },
  "language_info": {
   "codemirror_mode": {
    "name": "ipython",
    "version": 3
   },
   "file_extension": ".py",
   "mimetype": "text/x-python",
   "name": "python",
   "nbconvert_exporter": "python",
   "pygments_lexer": "ipython3",
   "version": "3.5.2"
  }
 },
 "nbformat": 4,
 "nbformat_minor": 1
}

{
 "cells": [
  {
   "cell_type": "markdown",
   "metadata": {},
   "source": [
    "# Data Types & Variables"
   ]
  },
  {
   "cell_type": "markdown",
   "metadata": {},
   "source": [
    "## Variables"
   ]
  },
  {
   "cell_type": "markdown",
   "metadata": {},
   "source": [
    "You can use:\n",
    "* any letter \n",
    "* special character \"_\"\n",
    "* any number (except to start the name)\n",
    "\n",
    "Variables names: <font color=\"red\"><b>case-sensitive</b></font><br>\n",
    "* starting w. double underscore: special meaning<br>\n",
    "* starting w. single underscore (private variables in classes)\n",
    "\n",
    "You can <font color=\"red\"><b>NOT</b></font> use the following reserved Python keywords: "
   ]
  },
  {
   "cell_type": "code",
   "execution_count": null,
   "metadata": {
    "collapsed": true
   },
   "outputs": [],
   "source": [
    "import keyword\n",
    "print(keyword.kwlist)"
   ]
  },
  {
   "cell_type": "markdown",
   "metadata": {},
   "source": [
    "## Simple Data Types"
   ]
  },
  {
   "cell_type": "markdown",
   "metadata": {},
   "source": [
    "* boolean: True/False\n",
    "* integer & long\n",
    "* float \n",
    "* complex<br>\n",
    "All objects of the above types are <font color=\"red\"><b>immutable</b></font>"
   ]
  },
  {
   "cell_type": "markdown",
   "metadata": {},
   "source": [
    "### Examples"
   ]
  },
  {
   "cell_type": "code",
   "execution_count": 1,
   "metadata": {},
   "outputs": [
    {
     "name": "stdout",
     "output_type": "stream",
     "text": [
      "True\n",
      "5\n",
      "3.14\n",
      "(3+1j)\n"
     ]
    }
   ],
   "source": [
    "booleanvar = ( 5 > 0 )\n",
    "print(booleanvar)\n",
    "\n",
    "a_int = 5\n",
    "print(a_int)\n",
    "\n",
    "x_float = 3.14\n",
    "print(x_float)\n",
    "\n",
    "z_cmplx = 3.0 + 1.j\n",
    "print(z_cmplx)"
   ]
  },
  {
   "cell_type": "markdown",
   "metadata": {},
   "source": [
    "### How to check the type in Python?"
   ]
  },
  {
   "cell_type": "code",
   "execution_count": 2,
   "metadata": {},
   "outputs": [
    {
     "name": "stdout",
     "output_type": "stream",
     "text": [
      "<class 'bool'>\n",
      "<class 'int'>\n",
      "<class 'float'>\n",
      "<class 'complex'>\n"
     ]
    }
   ],
   "source": [
    "print(type(booleanvar))\n",
    "print(type(a_int))\n",
    "print(type(x_float))\n",
    "print(type(z_cmplx))"
   ]
  },
  {
   "cell_type": "markdown",
   "metadata": {},
   "source": [
    "### Are there limitations to integers/floats like e.g. in C? "
   ]
  },
  {
   "cell_type": "code",
   "execution_count": 3,
   "metadata": {},
   "outputs": [
    {
     "name": "stdout",
     "output_type": "stream",
     "text": [
      "Max. length of an integer:9223372036854775807 Type:<class 'int'>\n",
      "x+1:= 9223372036854775808                     Type:<class 'int'>\n",
      "The variable 'googol' contains 101 numbers\n",
      "The variable 'verylong' contains 62501 numbers\n",
      "\n",
      "Largest float:\n",
      "Trying to convert a long into a float\n"
     ]
    },
    {
     "ename": "OverflowError",
     "evalue": "int too large to convert to float",
     "output_type": "error",
     "traceback": [
      "\u001b[0;31m---------------------------------------------------------------------------\u001b[0m",
      "\u001b[0;31mOverflowError\u001b[0m                             Traceback (most recent call last)",
      "\u001b[0;32m<ipython-input-3-9b0f75993787>\u001b[0m in \u001b[0;36m<module>\u001b[0;34m()\u001b[0m\n\u001b[1;32m     14\u001b[0m \u001b[0msys\u001b[0m\u001b[0;34m.\u001b[0m\u001b[0mfloat_info\u001b[0m\u001b[0;34m\u001b[0m\u001b[0m\n\u001b[1;32m     15\u001b[0m \u001b[0mprint\u001b[0m\u001b[0;34m(\u001b[0m\u001b[0;34m\"Trying to convert a long into a float\"\u001b[0m\u001b[0;34m)\u001b[0m\u001b[0;34m\u001b[0m\u001b[0m\n\u001b[0;32m---> 16\u001b[0;31m \u001b[0mz\u001b[0m\u001b[0;34m=\u001b[0m\u001b[0mfloat\u001b[0m\u001b[0;34m(\u001b[0m\u001b[0mverylong\u001b[0m\u001b[0;34m)\u001b[0m\u001b[0;34m\u001b[0m\u001b[0m\n\u001b[0m\u001b[1;32m     17\u001b[0m \u001b[0mprint\u001b[0m\u001b[0;34m(\u001b[0m\u001b[0mz\u001b[0m\u001b[0;34m)\u001b[0m\u001b[0;34m\u001b[0m\u001b[0m\n",
      "\u001b[0;31mOverflowError\u001b[0m: int too large to convert to float"
     ]
    }
   ],
   "source": [
    "import sys\n",
    "\n",
    "# Integers\n",
    "x = sys.maxsize\n",
    "print(\"Max. length of an integer:{0} Type:{1}\".format(x,type(x)))\n",
    "print(\"x+1:= {0}                     Type:{1}\".format(x+1,type(x+1)))\n",
    "googol=10**100\n",
    "verylong=10**(250**2)\n",
    "print(\"The variable 'googol' contains {0:d} numbers\".format(len(str(googol))))\n",
    "print(\"The variable 'verylong' contains {0:d} numbers\".format(len(str(verylong))))\n",
    "\n",
    "# Floats\n",
    "print(\"\\nLargest float:\")\n",
    "sys.float_info\n",
    "print(\"Trying to convert a long into a float\")\n",
    "z=float(verylong)\n",
    "print(z)"
   ]
  },
  {
   "cell_type": "markdown",
   "metadata": {},
   "source": [
    "### Special variables et al."
   ]
  },
  {
   "cell_type": "code",
   "execution_count": null,
   "metadata": {
    "collapsed": true
   },
   "outputs": [],
   "source": [
    "x=5\n",
    "print(__name__)\n",
    "print(x.__doc__)"
   ]
  },
  {
   "cell_type": "markdown",
   "metadata": {},
   "source": [
    "## Operators"
   ]
  },
  {
   "cell_type": "markdown",
   "metadata": {},
   "source": [
    "* math operators: + , -, / , // , * , **, % \n",
    "* bit operators: | , ~ , ^ , &  (see Truth Tables in Mathematical Logic)\n",
    "* comparaison operators: > , < , >= , <= , == , != , <>\n",
    "* logical operators: and, or, not\n",
    "* id function :: shows an object's memory address\n",
    "* identity operator: x is y -> true iff id(x) == id(y)"
   ]
  },
  {
   "cell_type": "markdown",
   "metadata": {},
   "source": [
    "### Examples"
   ]
  },
  {
   "cell_type": "code",
   "execution_count": null,
   "metadata": {
    "collapsed": true
   },
   "outputs": [],
   "source": [
    "print(\"\\nSimple Math operators:\")\n",
    "print(\"25*2:{0}\".format(25*2))\n",
    "print(\"25**2:{0}\".format(25**2))\n",
    "print(\"17%5:{0}\".format(17%5))\n",
    "z1 = 1.0 + 4.j\n",
    "z2 = 2.0 + 9.j\n",
    "print(\"z1:{0}\".format(z1))\n",
    "print(\"z2:{0}\".format(z2))\n",
    "print(\"z1+z2:{0}\".format(z1+z2))\n",
    "print(\"z1*z2:{0}\".format(z1*z2))\n",
    "\n",
    "print(\"\\nBit operators:\")\n",
    "x,y=21,39\n",
    "print(\" x   ={0:3d}   {1:>10}\".format(x,str(bin(x))))\n",
    "print(\" y   ={0:3d}   {1:>10}\".format(y,str(bin(y))))\n",
    "print(\" x&y ={0:3d}   {1:>10}\".format(x&y,str(bin(x&y))))\n",
    "print(\" x|y ={0:3d}   {1:>10}\".format(x|y,str(bin(x|y))))\n",
    "print(\" x^y ={0:3d}   {1:>10}\".format(x^y,str(bin(x^y))))\n",
    "print(\" ~x  ={0:3d}   {1:>10}\".format(~x,str(bin(~x))))\n",
    "print(\" ~y  ={0:3d}   {1:>10}\".format(~y,str(bin(~y))))\n",
    "print(\" x<<1={0:3d}   {1:>10}\".format(x<<1,str(bin(x<<1))))\n",
    "print(\" y>>1={0:3d}   {1:>10}\".format(y>>1,str(bin(y>>1))))\n",
    "print(\" x   ={0:3d}   {1:>10}\".format(x,str(oct(x))))\n",
    "print(\" x   ={0:3d}   {1:>10}\".format(x,str(hex(x))))\n",
    "\n",
    "print(\"\\nComparaison operators:\")\n",
    "print(\"23<13:{0}\".format(23<13))\n",
    "print(\"23!=13:{0}\".format(23!=13)) \n",
    "print(\"23==13:{0}\".format(23==13))\n",
    "\n",
    "print(\"\\nLogical operators:\")\n",
    "x=5\n",
    "y=3\n",
    "print(\"x={0}\".format(x))\n",
    "print(\"y={0}\".format(y))\n",
    "print(\"x==5 and y==5:{0}\".format(x==5 and y==5))\n",
    "print(\"x==5 or y==5:{0}\".format(x==5 or y==5))\n",
    "print(\"not(x==3):{0}\".format(not(x==3)))\n",
    "\n",
    "print(\"\\nTest A:\")\n",
    "a=10\n",
    "b=10\n",
    "print(\"a={0}\".format(a))\n",
    "print(\"b={0}\".format(b))\n",
    "print(\"a==b:{0}\".format(a==b))\n",
    "print(\"id(a):{0}\".format(id(a)))\n",
    "print(\"id(b):{0}\".format(id(b)))\n",
    "print(\"a is b:{0}\".format(a is b))\n",
    "\n",
    "print(\"\\nTest B:\")\n",
    "b=11\n",
    "print(\"a={0}\".format(a))\n",
    "print(\"b={0}\".format(b))\n",
    "print(\"a==b: {0}\".format(a==b))\n",
    "print(\"id(a): {0}\".format(id(a)))\n",
    "print(\"id(b): {0}\".format(id(b)))\n",
    "print(\"a is b: {0}\".format(a is b))"
   ]
  },
  {
   "cell_type": "markdown",
   "metadata": {},
   "source": [
    "### Note on Floor Division (//):"
   ]
  },
  {
   "cell_type": "code",
   "execution_count": null,
   "metadata": {
    "collapsed": true
   },
   "outputs": [],
   "source": [
    "import sys\n",
    "ver = sys.version\n",
    "print(\"Version of python:\",ver)\n",
    "a=7.\n",
    "b=3.\n",
    "print(\"  a/b={0}\".format(a/b))\n",
    "print(\"  a//b={0}\".format(a//b))"
   ]
  },
  {
   "cell_type": "markdown",
   "metadata": {},
   "source": [
    "## Control Flows"
   ]
  },
  {
   "cell_type": "markdown",
   "metadata": {},
   "source": [
    "### A.if/else/elif (Conditional statements)"
   ]
  },
  {
   "cell_type": "code",
   "execution_count": null,
   "metadata": {
    "collapsed": true
   },
   "outputs": [],
   "source": [
    "# Example 1:\n",
    "gender='M'\n",
    "if gender == 'M':\n",
    "    print(\"Person is of male gender\")\n",
    "elif gender == 'F':\n",
    "    print(\"Person is of female gender\")\n",
    "else:\n",
    "    print(\"Gender not specified!\")"
   ]
  },
  {
   "cell_type": "markdown",
   "metadata": {},
   "source": [
    "### B.for loop"
   ]
  },
  {
   "cell_type": "markdown",
   "metadata": {},
   "source": [
    "There are 2 (related) constructs:\n",
    "* for i in range(start,end,step):\n",
    "      command\n",
    "* for item in array:\n",
    "      command  \n",
    "      \n",
    "Closely related: break, continue and else      "
   ]
  },
  {
   "cell_type": "markdown",
   "metadata": {},
   "source": [
    "#### Examples"
   ]
  },
  {
   "cell_type": "code",
   "execution_count": null,
   "metadata": {
    "collapsed": true
   },
   "outputs": [],
   "source": [
    "# Example 1:\n",
    "# ---------\n",
    "print(\"Slice of the numbers\")\n",
    "for i in range(2,13,5):\n",
    "    print(\"  {0}\".format(i))\n",
    "    \n",
    "fruit=['apples','bananas','cherries','pineapple','strawberries']\n",
    "print(\"Construct 1::\")\n",
    "for item in fruit:\n",
    "    print(\"  Fruit:\" + item)\n",
    "\n",
    "print(\"Construct 2::\")\n",
    "for i in range(len(fruit)):\n",
    "    print(\"  Fruit:\" + fruit[i])"
   ]
  },
  {
   "cell_type": "code",
   "execution_count": null,
   "metadata": {
    "collapsed": true
   },
   "outputs": [],
   "source": [
    "# Example 2: break statement\n",
    "# break statement        \n",
    "import random\n",
    "arr = [random.randint(1,1000) for i in range(100)]\n",
    "arr\n",
    "print(\"Array of integer random numbers in range[1,1000]:\")\n",
    "print(arr)\n",
    "print(\"Retrieve ONLY first element from the array that is divisible by 7\")\n",
    "for i in arr:\n",
    "    if i%7 == 0:\n",
    "       print(\"  {0:3d} is divisible by 7 -> get out!\".format(i))\n",
    "       break\n",
    "    else:\n",
    "       print(\"  {0:3d} is NOT divisible by 7\".format(i))"
   ]
  },
  {
   "cell_type": "code",
   "execution_count": null,
   "metadata": {
    "collapsed": true
   },
   "outputs": [],
   "source": [
    "# Example 3: continue statement\n",
    "# ---------\n",
    "print(\"Print only the ODD elements\")\n",
    "for i in arr:\n",
    "    if i%2 == 0:\n",
    "        continue\n",
    "    print(\"  {0:3d} is NOT even\".format(i))"
   ]
  },
  {
   "cell_type": "code",
   "execution_count": null,
   "metadata": {
    "collapsed": true
   },
   "outputs": [],
   "source": [
    "# Example 4:  (for loop and else)\n",
    "# ---------\n",
    "# \"Calculate\" the square root of a large real number \n",
    "# We artificially set:\n",
    "#    # steps: VERY LOW\n",
    "#    # convergence: very tight \n",
    "# so that we leave the for loop unsuccessfully\n",
    "\n",
    "# Code to calculate the square root of a real number\n",
    "import math\n",
    "num=xold=751  # Determine the square root of this number\n",
    "CONV_THRESHOLD=1.0E-14\n",
    "MAX_NUM_ITER=5\n",
    "\n",
    "print(\"'Abortive' calculation the square root of {0} (Conv. Threshold:{1})\".format(num,CONV_THRESHOLD))\n",
    "it=0\n",
    "for i in range(MAX_NUM_ITER):\n",
    "    it += 1\n",
    "    xnew=0.5*(xold + num/xold)\n",
    "    print(\"  iter:{0:2d}  xnew={1:20.12f}\".format(it,xnew))\n",
    "    dx=math.fabs(xnew-xold)\n",
    "    if(dx < CONV_THRESHOLD):\n",
    "        print(\"  -> converged\")\n",
    "        break\n",
    "    else:\n",
    "        xold=xnew\n",
    "else:    # This is NOT part of an if-elif-else construct -> When the loop is exhausted -> go to else\n",
    "    print(\"The calculation did not converge in {0} steps\".format(MAX_NUM_ITER))"
   ]
  },
  {
   "cell_type": "markdown",
   "metadata": {},
   "source": [
    "### C. While statement"
   ]
  },
  {
   "cell_type": "markdown",
   "metadata": {},
   "source": [
    "The while construct has the following syntax\n",
    "while(condition is true):\n",
    "    do something"
   ]
  },
  {
   "cell_type": "markdown",
   "metadata": {},
   "source": [
    "#### Examples"
   ]
  },
  {
   "cell_type": "code",
   "execution_count": null,
   "metadata": {
    "collapsed": true
   },
   "outputs": [],
   "source": [
    "# Code to calculate the square root of a real number\n",
    "import math\n",
    "num=xold=751  # Determine the square root of this number\n",
    "CONV_THRESHOLD=1.0E-10\n",
    "step=0\n",
    "converged=False\n",
    "while(not(converged)):\n",
    "    step += 1\n",
    "    xnew=0.5*(xold + num/xold)\n",
    "    print(\" step:{0:2d}  xnew={1:20.12f}\".format(step,xnew))\n",
    "    dx=math.fabs(xnew-xold)\n",
    "    if(dx < CONV_THRESHOLD):\n",
    "        converged=True\n",
    "        print(\"  -> converged\")\n",
    "    else:\n",
    "        xold=xnew"
   ]
  },
  {
   "cell_type": "markdown",
   "metadata": {},
   "source": [
    "## D. Pass statement"
   ]
  },
  {
   "cell_type": "markdown",
   "metadata": {},
   "source": [
    "The pass clause is used to express<br>\n",
    "\"do nothing\"/skip"
   ]
  },
  {
   "cell_type": "markdown",
   "metadata": {},
   "source": [
    "### Examples"
   ]
  },
  {
   "cell_type": "code",
   "execution_count": null,
   "metadata": {
    "collapsed": true
   },
   "outputs": [],
   "source": [
    "for i in range(10):\n",
    "    if i==7:\n",
    "        pass\n",
    "    else:\n",
    "        print(i)"
   ]
  },
  {
   "cell_type": "markdown",
   "metadata": {},
   "source": [
    "## Functions in Python (Part I)"
   ]
  },
  {
   "cell_type": "markdown",
   "metadata": {},
   "source": [
    "General lay-out of a function in Python\n",
    "* Function announced with the <font color=\"red\"><b>def</b></font> keyword\n",
    "* Followed by the function name\n",
    "* Followed by the argument list in parenthesis\n",
    "* <font color=\"green\"><b>Recommendation</b></font> :: use doc strings\n",
    "* Body of the function\n",
    "* return (value1,value2,...)\n",
    "* If there is no return statement then the function returns <font color=\"red\"><b>None</b></font>"
   ]
  },
  {
   "cell_type": "markdown",
   "metadata": {},
   "source": [
    "### Examples"
   ]
  },
  {
   "cell_type": "code",
   "execution_count": null,
   "metadata": {
    "collapsed": true
   },
   "outputs": [],
   "source": [
    "# Example 1:\n",
    "# ---------\n",
    "def iseven(x):\n",
    "    \"\"\"\n",
    "    Function to find out whether a number is even or odd\n",
    "    Catch the error if it pops up.\n",
    "    @x: number\n",
    "    @return (boolean)\n",
    "    \"\"\"\n",
    "    try:\n",
    "        return (x%2 == 0)\n",
    "    except TypeError:\n",
    "        print(\"     ERROR:'{0}' is NOT a number\".format(x))\n",
    "\n",
    "print(\"Test whether the following data points are even\")        \n",
    "x=[1,2,3,4,\"blabla\",5]\n",
    "for item in x:\n",
    "    print(\"  '{0}': {1}\".format(item,iseven(item)))\n",
    "print(\"Doc string result:\")    \n",
    "print(iseven.__doc__)  "
   ]
  },
  {
   "cell_type": "code",
   "execution_count": null,
   "metadata": {
    "collapsed": true
   },
   "outputs": [],
   "source": [
    "# Example 2:\n",
    "# ---------\n",
    "import math    \n",
    "def calc_norm(vec):\n",
    "    \"\"\"\n",
    "    Function to calculate the L2-norm of a (real) vector\n",
    "    @vec: vector\n",
    "    @return (L2Norm)\n",
    "    \"\"\"\n",
    "    res=0.0\n",
    "    for i in range(len(vec)): \n",
    "        res += vec[i]**2\n",
    "    return math.sqrt(res)\n",
    "\n",
    "v=[1.,3.,math.pi,5.,7.]\n",
    "print(\"Calculate the L2 norm of the following vector:\")\n",
    "print(\"  Vec:{0}\".format(v))\n",
    "print(\"  The L2-norm of the vector is {0:12.8f}\".format(calc_norm(v)))\n",
    "print(\"Doc string result:\")    \n",
    "print(calc_norm.__doc__) \n",
    "\n",
    "# Example 3: (Recursive problem)\n",
    "# ---------\n",
    "# Fundamental theorem of arithmetic:\n",
    "# Every integer is either a prime or can be written as a product of primes.\n",
    "def decomp(n,res):\n",
    "    \n",
    "    if(n==1):\n",
    "       return 1\n",
    "    else:\n",
    "       upBoundary=int(math.sqrt(n))+1\n",
    "       arr=[i for i in range(2,upBoundary)]\n",
    "       for num in arr:\n",
    "           if n%num==0:\n",
    "              decomp(num,res)\n",
    "              decomp(n/num,res)\n",
    "              return\n",
    "       print(\"n={0} is a prime\".format(n))\n",
    "       return res.append(n)\n",
    "\n",
    "print(\"Fundamental theorem of arithmetic\")\n",
    "n=input(\"Give an integer:\")\n",
    "print(\"  n:{0}  type:{1}\".format(n,type(n)))\n",
    "n=int(n)  # Perform a cast\n",
    "res=[]\n",
    "decomp(n,res)\n",
    "print(res)"
   ]
  },
  {
   "cell_type": "code",
   "execution_count": null,
   "metadata": {
    "collapsed": true
   },
   "outputs": [],
   "source": [
    "# Example 4:\n",
    "# ---------\n",
    "def print_star(n):\n",
    "    \"\"\"\n",
    "    Function to print n lines with a star\n",
    "    \"\"\"\n",
    "    for i in range(n):\n",
    "        print(\"*\")\n",
    "\n",
    "print(\"Testing the None object\")\n",
    "ret=print_star(4)\n",
    "if ret is None:\n",
    "    print(\"The None object is returned\")\n",
    "else:\n",
    "    print(\"The None object is NOT returned\")"
   ]
  },
  {
   "cell_type": "code",
   "execution_count": null,
   "metadata": {
    "collapsed": true
   },
   "outputs": [],
   "source": [
    "def fact(n):\n",
    "    \"\"\"\n",
    "    The factorial function (recursive)\n",
    "    \"\"\"\n",
    "    if n==0:\n",
    "        return 1\n",
    "    elif n>0:\n",
    "        return n*fact(n-1)\n",
    "    else:\n",
    "        return \"ERROR:Factorial not defined for {0}\".format(n)\n",
    "    \n",
    "print(fact(5))    \n",
    "print(fact(-1))"
   ]
  },
  {
   "cell_type": "markdown",
   "metadata": {},
   "source": [
    "## Modules"
   ]
  },
  {
   "cell_type": "markdown",
   "metadata": {},
   "source": [
    "### What is a module?\n",
    "Module :: file with Python statements and definitions.<br>\n",
    "All python <font color=\"red\"><b>modules</b></font> have a .py suffix.<br>\n",
    "\n",
    "### Why use modules?\n",
    "* <font color=\"red\"><b>Code reuse</b></font><br>\n",
    "  You can save code in modules & reuse the code\n",
    "* <font color=\"red\"><b>Namespace partitioning</b></font><br>\n",
    "  Python modules are self contained<br>\n",
    "  e.g. we can make the distinction between the function def myfunc() in module A and module B.<br>\n",
    "  https://en.wikipedia.org/wiki/Namespace\n",
    "\n",
    "In order to make modules <font color=\"red\"><b>visible</b></font> in your current space, the content of these files has to be imported.<br>"
   ]
  },
  {
   "cell_type": "markdown",
   "metadata": {},
   "source": [
    "### Examples"
   ]
  },
  {
   "cell_type": "code",
   "execution_count": null,
   "metadata": {
    "collapsed": true
   },
   "outputs": [],
   "source": [
    "# Assume we want to use the cos function from the math module (within Python Standard Library)\n",
    "import math\n",
    "print(\"The cosine of pi is:{0}\".format(math.cos(math.pi)))\n",
    "\n",
    "# Renaming the module name\n",
    "import math as m\n",
    "print(\"Euler's constant e has the following value:{0}\".format(m.e))\n",
    "\n",
    "# We can also proceed as follows (rather dangerous)\n",
    "# NEVER DO t\n",
    "from math import sin, pi\n",
    "print(\"The sine of pi/4 is:{0}\".format(sin(pi/4)))"
   ]
  },
  {
   "cell_type": "markdown",
   "metadata": {},
   "source": [
    "### A useful way to test your module"
   ]
  },
  {
   "cell_type": "code",
   "execution_count": null,
   "metadata": {
    "collapsed": true
   },
   "outputs": [],
   "source": [
    "# The if __name__ == \"__main__\" construct\n",
    "# Test out in a shell the following:\n",
    "# CASE A:\n",
    "#   python\n",
    "#   import ex1\n",
    "#   dir()\n",
    "#   print(ex1.__file__)\n",
    "#   help(ex1)\n",
    "#   dir(ex1)\n",
    "#   help(ex1.fact)\n",
    "\n",
    "# CASE B:\n",
    "#   python ex1.py"
   ]
  },
  {
   "cell_type": "markdown",
   "metadata": {},
   "source": [
    "## How does the Python import command work?\n",
    "\n",
    "The import statement passes through the following stages:\n",
    "* A.Try to locate the Python module\n",
    "* B.Compile the module (if necessary)\n",
    "* C.Execute the module\n",
    "\n",
    "#### A. Try to locate the Python module:\n",
    "The Python interpreter looks at the following locations i.e.<br>\n",
    "(starts at 1., if not found 2., etc.,   5.)<br>\n",
    "<font color=\"red\"><b>If not found in 5.=> Error</b></font><br>\n",
    "1. If a Python script is launched in a <font color=\"green\"><b>directory</b></font>, \n",
    "then the Python script first tries to find in the<br>\n",
    "<font color=\"green\"><b>same directory</b></font> the modules that need to be imported.<br>\n",
    "   If you invoke a python interactively in a <font color=\"green\"><b>directory</b></font>, it looks in the \n",
    "   <font color=\"green\"><b>same directory</b></font> first.  \n",
    "2. Search into the directories (from left to right) defined in the <font color=\"green\"><b>PYTHONPATH</b></font> env. variable\n",
    "3. Look in the Python Standard Library Directories \n",
    "4. Look in a <font color=\"green\"><b>.pth</b></font> file if it exists.\n",
    "5. Look in the python's distro directory <font color=\"green\"><b>lib/python\\$x.\\$y/site-packages</b></font>.<br>\n",
    "\n",
    "\n",
    "Note: <br>\n",
    "* Step 2 is mainly used by <font color=\"blue\"><b>individual users</b></font>. <br>\n",
    "* Step 4 is rather for <font color=\"blue\"><b>system wide use</b></font>.\n",
    "   "
   ]
  },
  {
   "cell_type": "markdown",
   "metadata": {},
   "source": [
    "#### B.Generation of the byte-code\n",
    "##### &nbsp;&nbsp; For Python <3.2:\n",
    "* The byte code (.pyc suffix) of the modules is generated/stored in the <font color=\"green\"><b>same directory where their source code</b></font> is residing.\n",
    "* The byte code is regenerated if the source code is of a more recent date than the existing byte code.\n",
    "\n",
    "##### &nbsp;&nbsp;For Python >= 3.2:\n",
    "* The byte code of the modules is generated/stored in <font color=\"green\"><b>the subdirectory \\_\\_pycache\\_\\_ of the directory where its source code</b></font> is residing.\n",
    "* The byte code has a suffix containing the <font color=\"green\"><b>Python version & .pyc</b></font>\n",
    "* The byte code is regenerated if the source code is of a more recent date than the existing byte code or generated by another version of Python.\n",
    "\n",
    "#### C.Execute the imported modules\n",
    "\n",
    "&nbsp;&nbsp; Execute the example in the subdirectory:<br>\n",
    "&nbsp;&nbsp; <font color=\"blue\"><b>Lectures/TestCode/Lecture1/Module1</b></font>"
   ]
  },
  {
   "cell_type": "markdown",
   "metadata": {},
   "source": [
    "### How to load a module from a \"non-standard\" directory in your environment?"
   ]
  },
  {
   "cell_type": "markdown",
   "metadata": {},
   "source": [
    "In praxi, the 2 major options/handles are: \n",
    "* set/modify the PYTHONPATH variable\n",
    "* within the Python code -> modify the sys.path list"
   ]
  },
  {
   "cell_type": "code",
   "execution_count": null,
   "metadata": {
    "collapsed": true
   },
   "outputs": [],
   "source": [
    "# Approach 1:\n",
    "import sys\n",
    "print(\"The python search path::\", sys.path)\n",
    "sys.path.append('./TestCode/Lecture1/Module2')\n",
    "print(\"The updated python search path::\", sys.path)\n",
    "import ex1\n",
    "print(\"ex1.fact(7)\")\n",
    "print(\"Alternative version:{0}\".format(ex1.__dict__['fact'](7)))\n",
    "\n",
    "# Approach 2: (open a tty terminal to show)\n",
    "# export PYTHONPATH=/home/hadoop/Python/Slides/TestCode:$PYTHONPATH\n",
    "# import ex1\n",
    "# ex1.fact(7)"
   ]
  },
  {
   "cell_type": "markdown",
   "metadata": {},
   "source": [
    "### Executing Python statement on a command line"
   ]
  },
  {
   "cell_type": "code",
   "execution_count": null,
   "metadata": {
    "collapsed": true
   },
   "outputs": [],
   "source": [
    "!python3 -c \"import math;print(' Value of pi:{0:20.18f}'.format(math.pi))\""
   ]
  },
  {
   "cell_type": "markdown",
   "metadata": {},
   "source": [
    "### Additional info on modules "
   ]
  },
  {
   "cell_type": "code",
   "execution_count": null,
   "metadata": {
    "collapsed": true
   },
   "outputs": [],
   "source": [
    "# To be executed in a shell directly\n",
    "import math\n",
    "dir(math)         # Content of the math module\n",
    "help(math)        # Help on the math module -> top line shows where the module is installed\n",
    "help('modules')   # Which modules are available\n",
    "\n",
    "# Important modules (Check them out)\n",
    "# math\n",
    "# cmath\n",
    "# os\n",
    "# sys\n",
    "# shutil "
   ]
  },
  {
   "cell_type": "code",
   "execution_count": null,
   "metadata": {
    "collapsed": true
   },
   "outputs": [],
   "source": [
    "import matplotlib.pyplot as plt\n",
    "import numpy as np\n",
    "import math as m\n",
    "\n",
    "x = np.linspace(0,4*m.pi,1000)\n",
    "y = np.sin(x)\n",
    "plt.plot(x,y)\n",
    "plt.title(\"my plot\")\n",
    "plt.show()"
   ]
  },
  {
   "cell_type": "markdown",
   "metadata": {},
   "source": [
    "# Exercises"
   ]
  },
  {
   "cell_type": "markdown",
   "metadata": {},
   "source": [
    "1. Write the function <font color=\"green\"><b>solve_quad</b></font> to solve the quadratic equation <br>\n",
    "    $a\\,x^2\\,+\\,b\\,x\\,+\\,c=0$ with  $a, b, c \\in \\mathbb{R}$<br>\n",
    "  * Your code also needs to able to handle the case where $a=0$ (linear equation)<br>\n",
    "  * Test your code (using the name/main construct) for the following 4 possible cases:\n",
    "    * a,b,c = (1.,-3.,2.)\n",
    "    * a,b,c = (1.,-2.,10.)\n",
    "    * a,b,c = (1.,-4.,4.)\n",
    "    * a,b,c = (0.,2.,3.)\n",
    "2. The series $\\sum_{k=1}^{\\infty} \\frac{sin(k)}{k^2} $ is (absolutely) convergent<br>\n",
    "  * Write a function (module sn.py) to calculate the partial sum $S_N$ <br> \n",
    "    $S_N := \\sum_{k=1}^{k=N}  \\frac{sin(k)}{k^2} $ <br>\n",
    "  * Test your function using the name/main construct<br>\n",
    "    (calculate $S_N$ for N=10, 20, 30, ..., 500)\n",
    "  * Note (for checking): $\\sum_{k=1}^{\\infty} \\frac{1}{k^2} = \\frac{\\pi^2}{6}$\n",
    "3. Estimate the value of $\\pi$<br>\n",
    "  * $\\pi$ can be estimated as follows:<br>\n",
    "      $ \\pi \\, \\approx \\, 4\\,\\times\\,\\frac{\\text{#points in 1/4 of circle inscribed in unit-square}}{\\text{# points in unit-square}}$\n",
    "  * Note:\n",
    "    * The python module <font color=\"green\"><b>random</b></font> implements pseudo-random number<br>\n",
    "      generators for various distributions\n",
    "4. Let $X,Y$ be random variables, each having a Uniform Distribution [0,1[ <br>\n",
    "  * Mathematically we can prove that the Random Variable $U=X+Y$<br>\n",
    "    has the following probability density function (pdf):<br>\n",
    "    $f(u)=\\left\\{\\begin{array}{cl}\n",
    "    u& u \\in [0,1]\\\\\n",
    "    2-u & u \\in [1,2[\\\\\n",
    "    0,& \\mbox{elsewhere}\\end{array}\\right.$\n",
    "  * Reproduce the pdf of $U$ numerically\n",
    "  * Note:\n",
    "    * The python module <font color=\"green\"><b>random</b></font> implements pseudo-random number<br>\n",
    "      generators for various distributions\n",
    "    * You can visualize the frequencies of each bin using matplotlib \n",
    "      * import matplotlib.pyplot as plt\n",
    "      * plt.plot(bin)  # bin being an array\n",
    "      * plt.show()\n",
    "5. The [<font color=\"green\"><b>Collatz conjecture</b></font>](https://en.wikipedia.org/wiki/Collatz_conjecture) (named after Lothar Collatz)<br>\n",
    "  * $\\forall n \\in \\mathbb{N}$:\n",
    "    * if n%2 == 0:\n",
    "      * $\\Rightarrow  n = n/2 $\n",
    "    * else if n%2 == 1:\n",
    "      * $\\Rightarrow n = 3n +1$\n",
    "  * Conjecture: $\\forall n \\in \\mathbb{N}$, you always will reach 1.\n",
    "  * Write a function (normal, recursive) to test the conjecture. <br>\n",
    "    Apply these functions to e.g. $n=6,19,27$"
   ]
  },
  {
   "cell_type": "code",
   "execution_count": null,
   "metadata": {
    "collapsed": true
   },
   "outputs": [],
   "source": []
  }
 ],
 "metadata": {
  "anaconda-cloud": {},
  "kernelspec": {
   "display_name": "Python 3",
   "language": "python",
   "name": "python3"
  },
  "language_info": {
   "codemirror_mode": {
    "name": "ipython",
    "version": 3
   },
   "file_extension": ".py",
   "mimetype": "text/x-python",
   "name": "python",
   "nbconvert_exporter": "python",
   "pygments_lexer": "ipython3",
   "version": "3.5.2"
  }
 },
 "nbformat": 4,
 "nbformat_minor": 1
}

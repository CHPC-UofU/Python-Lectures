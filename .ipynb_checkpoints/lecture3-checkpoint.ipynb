{
 "cells": [
  {
   "cell_type": "markdown",
   "metadata": {},
   "source": [
    "## Why go beyond regular python for scientific applications?"
   ]
  },
  {
   "cell_type": "markdown",
   "metadata": {},
   "source": [
    "* Traditional Python list can contain object of whatever type\n",
    "  * Pro: Very flexible\n",
    "  * Con: Slow \n",
    "* In scientific applications, we have arrays of a well-defined type (e.g. int, float, double)\n",
    "* To speed up => introduction of numpy "
   ]
  },
  {
   "cell_type": "markdown",
   "metadata": {},
   "source": [
    "### Simple test:"
   ]
  },
  {
   "cell_type": "code",
   "execution_count": 2,
   "metadata": {
    "collapsed": true
   },
   "outputs": [],
   "source": [
    "SZ=10000"
   ]
  },
  {
   "cell_type": "code",
   "execution_count": 3,
   "metadata": {},
   "outputs": [
    {
     "name": "stdout",
     "output_type": "stream",
     "text": [
      "2.91 ms ± 1.82 µs per loop (mean ± std. dev. of 7 runs, 100 loops each)\n"
     ]
    }
   ],
   "source": [
    "%timeit [item**2 for item in range(SZ)]"
   ]
  },
  {
   "cell_type": "code",
   "execution_count": 7,
   "metadata": {},
   "outputs": [
    {
     "name": "stdout",
     "output_type": "stream",
     "text": [
      "23.2 µs ± 60.4 ns per loop (mean ± std. dev. of 7 runs, 10000 loops each)\n"
     ]
    }
   ],
   "source": [
    "import numpy as np\n",
    "%timeit np.arange(SZ)**2"
   ]
  },
  {
   "cell_type": "markdown",
   "metadata": {},
   "source": [
    "* built on a multidimensional array object (ndarray) containing homogeneous items\n",
    "* allows fast mathematical operations over arrays (relies on math libs in Fortran and C)\n",
    "* core math op: linear algebra, fft, random number generation\n",
    "* numpy forms the corner stone of most python based scientific packages, such as:\n",
    "  * scipy: scientific routines on top of numpy\n",
    "  * matplotlib: 2D plotting \n",
    "  * pandas: data structure & analysis\n",
    "  * sympy: symbolic mathematics"
   ]
  },
  {
   "cell_type": "markdown",
   "metadata": {},
   "source": [
    "## Creation of arrays"
   ]
  },
  {
   "cell_type": "markdown",
   "metadata": {},
   "source": [
    "### 1D array:"
   ]
  },
  {
   "cell_type": "markdown",
   "metadata": {},
   "source": [
    "There are several functions to create a 1D array:\n",
    "* numpy.array() : create an ndarray\n",
    "* numpy.arange({start], stop[, step], dtype=None) : return evenly spaced values with given interval\n",
    "* numpy.linspace(start, stop, num=50, endpoint=True) : return evenly spaced numbers over a specified interval."
   ]
  },
  {
   "cell_type": "code",
   "execution_count": 4,
   "metadata": {},
   "outputs": [
    {
     "name": "stdout",
     "output_type": "stream",
     "text": [
      "a := np.array(range(10)) :\n",
      "[0 1 2 3 4 5 6 7 8 9]\n",
      "\n",
      "b := np.arange(10):\n",
      "[0 1 2 3 4 5 6 7 8 9]\n",
      "\n",
      "c := np.arange(0.,1.0,0.1):\n",
      "[ 0.   0.1  0.2  0.3  0.4  0.5  0.6  0.7  0.8  0.9]\n",
      "\n",
      "d := np.linspace(0,1,11):\n",
      "[ 0.   0.1  0.2  0.3  0.4  0.5  0.6  0.7  0.8  0.9  1. ]\n",
      "\n",
      "e := np.linspace(0,1,10,endpoint=False):\n",
      "[ 0.   0.1  0.2  0.3  0.4  0.5  0.6  0.7  0.8  0.9]\n",
      "\n"
     ]
    }
   ],
   "source": [
    "import numpy as np\n",
    "a=np.array(range(10)) \n",
    "print(\"a := np.array(range(10)) :\\n{0}\\n\".format(a))\n",
    "\n",
    "b=np.arange(10)\n",
    "print(\"b := np.arange(10):\\n{0}\\n\".format(b))\n",
    "\n",
    "c=np.arange(0.,1.0,0.1)\n",
    "print(\"c := np.arange(0.,1.0,0.1):\\n{0}\\n\".format(c))\n",
    "\n",
    "# [0,1] with equidistant intervals\n",
    "d=np.linspace(0,1,11)   \n",
    "print(\"d := np.linspace(0,1,11):\\n{0}\\n\".format(d))\n",
    "\n",
    "# [0,1[ with equidistant intervals\n",
    "e=np.linspace(0,1,10,endpoint=False) \n",
    "print(\"e := np.linspace(0,1,10,endpoint=False):\\n{0}\\n\".format(e))"
   ]
  },
  {
   "cell_type": "markdown",
   "metadata": {},
   "source": [
    "### Multi dimensional arrays:"
   ]
  },
  {
   "cell_type": "markdown",
   "metadata": {},
   "source": [
    "There several (general) ways to create a N$D$ numpy array.<br>\n",
    "Among them:<br>\n",
    "* numpy.array\n",
    "* numpy.reshape(a,,newshape[,order]) : Gives a new shape to an array without changing its data\n",
    "* numpy.meshgrid : Return coordinate matrices from two or more coordinate vectors\n",
    "\n",
    "We can convert a N$D$ array into a 1$D$ array as follows:\n",
    "* numpy.reshape\n",
    "* numpy.flatten(order='C') : return a <b>copy</b> of a flattened array\n",
    "* numpy.ravel(a,order='C') : return a $1D$ array"
   ]
  },
  {
   "cell_type": "code",
   "execution_count": 5,
   "metadata": {},
   "outputs": [
    {
     "name": "stdout",
     "output_type": "stream",
     "text": [
      "a := np.array([[1,2,3,4],[5,6,7,8],[9,10,11,12]]) :\n",
      "[[ 1  2  3  4]\n",
      " [ 5  6  7  8]\n",
      " [ 9 10 11 12]]\n",
      "\n",
      "b := np.arange(1,13).reshape(3,4) :\n",
      "[[ 1  2  3  4]\n",
      " [ 5  6  7  8]\n",
      " [ 9 10 11 12]]\n",
      "\n",
      "c := np.array([[1,2,3],[4,5,6]]) :\n",
      "[[1 2 3]\n",
      " [4 5 6]]\n",
      "\n",
      "d := np.reshape(c,(1,6)) :\n",
      "[[1 2 3 4 5 6]]\n",
      "\n",
      "e := np.reshape(c,(1,6),order='F') :\n",
      "[[1 4 2 5 3 6]]\n",
      "\n",
      "x := dim:(64,):\n",
      "[-8.   -7.75 -7.5  -7.25 -7.   -6.75 -6.5  -6.25 -6.   -5.75 -5.5  -5.25\n",
      " -5.   -4.75 -4.5  -4.25 -4.   -3.75 -3.5  -3.25 -3.   -2.75 -2.5  -2.25\n",
      " -2.   -1.75 -1.5  -1.25 -1.   -0.75 -0.5  -0.25  0.    0.25  0.5   0.75\n",
      "  1.    1.25  1.5   1.75  2.    2.25  2.5   2.75  3.    3.25  3.5   3.75\n",
      "  4.    4.25  4.5   4.75  5.    5.25  5.5   5.75  6.    6.25  6.5   6.75\n",
      "  7.    7.25  7.5   7.75]\n",
      "\n",
      "y := dim:(64,):\n",
      "[-8.   -7.75 -7.5  -7.25 -7.   -6.75 -6.5  -6.25 -6.   -5.75 -5.5  -5.25\n",
      " -5.   -4.75 -4.5  -4.25 -4.   -3.75 -3.5  -3.25 -3.   -2.75 -2.5  -2.25\n",
      " -2.   -1.75 -1.5  -1.25 -1.   -0.75 -0.5  -0.25  0.    0.25  0.5   0.75\n",
      "  1.    1.25  1.5   1.75  2.    2.25  2.5   2.75  3.    3.25  3.5   3.75\n",
      "  4.    4.25  4.5   4.75  5.    5.25  5.5   5.75  6.    6.25  6.5   6.75\n",
      "  7.    7.25  7.5   7.75]\n",
      "\n"
     ]
    },
    {
     "data": {
      "image/png": "[encoded data removed]",
      "text/plain": [
       "<matplotlib.figure.Figure at 0x2b5999c04790>"
      ]
     },
     "metadata": {},
     "output_type": "display_data"
    },
    {
     "name": "stdout",
     "output_type": "stream",
     "text": [
      "g := np.arange(30).reshape((2,3,5)) :\n",
      "[[[ 0  1  2  3  4]\n",
      "  [ 5  6  7  8  9]\n",
      "  [10 11 12 13 14]]\n",
      "\n",
      " [[15 16 17 18 19]\n",
      "  [20 21 22 23 24]\n",
      "  [25 26 27 28 29]]]\n",
      "\n",
      "h := np.ravel(g,order='C') :\n",
      "[ 0  1  2  3  4  5  6  7  8  9 10 11 12 13 14 15 16 17 18 19 20 21 22 23 24\n",
      " 25 26 27 28 29]\n",
      "\n",
      "k := np.ravel(g,order='F') :\n",
      "[ 0 15  5 20 10 25  1 16  6 21 11 26  2 17  7 22 12 27  3 18  8 23 13 28  4\n",
      " 19  9 24 14 29]\n",
      "\n",
      "l := np.flatten(g,order='F') :\n",
      "[ 0 15  5 20 10 25  1 16  6 21 11 26  2 17  7 22 12 27  3 18  8 23 13 28  4\n",
      " 19  9 24 14 29]\n",
      "\n"
     ]
    }
   ],
   "source": [
    "import numpy as np\n",
    "a=np.array([[1,2,3,4],[5,6,7,8],[9,10,11,12]])\n",
    "print(\"a := np.array([[1,2,3,4],[5,6,7,8],[9,10,11,12]]) :\\n{0}\\n\".format(a))\n",
    "\n",
    "b=np.arange(1,13).reshape(3,4)\n",
    "print(\"b := np.arange(1,13).reshape(3,4) :\\n{0}\\n\".format(b))\n",
    "\n",
    "c=np.array([[1,2,3],[4,5,6]])\n",
    "print(\"c := np.array([[1,2,3],[4,5,6]]) :\\n{0}\\n\".format(c))\n",
    "\n",
    "d=np.reshape(c,(1,6))\n",
    "print(\"d := np.reshape(c,(1,6)) :\\n{0}\\n\".format(d))\n",
    "\n",
    "e=np.reshape(c,(1,6),order='F')\n",
    "print(\"e := np.reshape(c,(1,6),order='F') :\\n{0}\\n\".format(e))\n",
    "\n",
    "# Meshgrid -> useful to make surfaces/(plots)\n",
    "x=np.arange(-8, 8, 0.25)\n",
    "y=np.arange(-8,8, 0.25) \n",
    "EPS=1.0E-4\n",
    "xc,yc=np.meshgrid(x,y)\n",
    "print(\"x := dim:{0}:\\n{1}\\n\".format(x.shape,x))\n",
    "print(\"y := dim:{0}:\\n{1}\\n\".format(y.shape,y))\n",
    "r = np.sqrt(xc**2 + yc**2) + EPS\n",
    "zc = np.sin(r)/r\n",
    "\n",
    "# Matplot lib example\n",
    "from mpl_toolkits.mplot3d import Axes3D\n",
    "from matplotlib import cm\n",
    "from matplotlib.ticker import LinearLocator, FormatStrFormatter\n",
    "import matplotlib.pyplot as plt\n",
    "import numpy as np\n",
    "\n",
    "fig = plt.figure()\n",
    "ax = fig.gca(projection='3d')\n",
    "surf = ax.plot_surface(xc, yc, zc, rstride=1, cstride=1,cmap=cm.spectral_r,\n",
    "        linewidth=0, antialiased=False)\n",
    "ax.set_zlim(-0.1, 1.00)\n",
    "\n",
    "ax.zaxis.set_major_locator(LinearLocator(10))\n",
    "ax.zaxis.set_major_formatter(FormatStrFormatter('%.02f'))\n",
    "\n",
    "plt.show()\n",
    "\n",
    "# Flatten multi-dimensional array\n",
    "g=np.arange(30).reshape((2,3,5))\n",
    "print(\"g := np.arange(30).reshape((2,3,5)) :\\n{0}\\n\".format(g))\n",
    "\n",
    "h=g.ravel(order='C')\n",
    "print(\"h := np.ravel(g,order='C') :\\n{0}\\n\".format(h))\n",
    "\n",
    "k=g.ravel(order='F')\n",
    "print(\"k := np.ravel(g,order='F') :\\n{0}\\n\".format(k))\n",
    "\n",
    "l=g.flatten(order='F')\n",
    "print(\"l := np.flatten(g,order='F') :\\n{0}\\n\".format(l))"
   ]
  },
  {
   "cell_type": "markdown",
   "metadata": {},
   "source": [
    "### Array attributes"
   ]
  },
  {
   "cell_type": "markdown",
   "metadata": {},
   "source": [
    "* dtype: type of the elements\n",
    "* ndim : dimensionality (#axes) of the array\n",
    "* shape: dimensions of the array (tuple)\n",
    "* size : #elements in the array\n",
    "\n",
    "* itemsize: memory occupied by 1 element\n",
    "* nbytes  : total #bytes consumed by the el. of the array"
   ]
  },
  {
   "cell_type": "code",
   "execution_count": 6,
   "metadata": {},
   "outputs": [
    {
     "name": "stdout",
     "output_type": "stream",
     "text": [
      "a := np.arange(30).reshape((2,3,5)) :\n",
      "[[[ 0  1  2  3  4]\n",
      "  [ 5  6  7  8  9]\n",
      "  [10 11 12 13 14]]\n",
      "\n",
      " [[15 16 17 18 19]\n",
      "  [20 21 22 23 24]\n",
      "  [25 26 27 28 29]]]\n",
      "\n",
      "  a.dtype:'int64'\n",
      "  a.ndim:'3'\n",
      "  a.shape:'(2, 3, 5)'\n",
      "  a.size:'30'\n",
      "  a.itemsize:'8'\n",
      "  a.nbytes:'240'\n",
      "  type(a) :'<type 'numpy.ndarray'>'\n"
     ]
    }
   ],
   "source": [
    "a=np.arange(30).reshape(2,3,5)\n",
    "print(\"a := np.arange(30).reshape((2,3,5)) :\\n{0}\\n\".format(a))\n",
    "print(\"  a.dtype:'{0}'\".format(a.dtype))\n",
    "print(\"  a.ndim:'{0}'\".format(a.ndim))\n",
    "print(\"  a.shape:'{0}'\".format(a.shape))\n",
    "print(\"  a.size:'{0}'\".format(a.size))\n",
    "print(\"  a.itemsize:'{0}'\".format(a.itemsize))\n",
    "print(\"  a.nbytes:'{0}'\".format(a.nbytes))\n",
    "print(\"  type(a) :'{0}'\".format(type(a)))"
   ]
  },
  {
   "cell_type": "markdown",
   "metadata": {},
   "source": [
    "### Create special arrays (form & types)"
   ]
  },
  {
   "cell_type": "markdown",
   "metadata": {},
   "source": [
    "#### a.Data Types"
   ]
  },
  {
   "cell_type": "markdown",
   "metadata": {},
   "source": [
    "Numpy support several <font><b>data types</b></font> e.g.:\n",
    "* int8, int16 int32, int64\n",
    "* uint8, uint16, uint32, uint64\n",
    "* float16, float32, float64\n",
    "* complex64, complex128 \n",
    "* ...\n",
    "\n",
    "Casting between types:\n",
    "* numpy.astype(dtype) : convert array to type dtype"
   ]
  },
  {
   "cell_type": "code",
   "execution_count": 7,
   "metadata": {},
   "outputs": [
    {
     "name": "stdout",
     "output_type": "stream",
     "text": [
      "i1 := np.arange(10,dtype='int32'):\n",
      "[0 1 2 3 4 5 6 7 8 9]\n",
      "  i1.dtype:'int32'\n",
      "  i1.size :'10'\n",
      "  i1.itemsize:'4'\n",
      "  i1.nbytes:'40'\n",
      "\n",
      "i2 := np.arange(10,dtype='int64'):\n",
      "[0 1 2 3 4 5 6 7 8 9]\n",
      "  i2.dtype:'int64'\n",
      "  i2.size :'10'\n",
      "  i2.itemsize:'8'\n",
      "  i2.nbytes:'80'\n",
      "\n",
      "z1 := np.arange(10,dtype='complex128'):\n",
      "[ 0.+0.j  1.+0.j  2.+0.j  3.+0.j  4.+0.j  5.+0.j  6.+0.j  7.+0.j  8.+0.j\n",
      "  9.+0.j]\n",
      "\n",
      "  z1.dtype:'complex128'\n",
      "  z1.size :'10'\n",
      "  z1.itemsize:'16'\n",
      "  z1.nbytes:'160'\n",
      "\n",
      "f1 := np.array([1.0,2.5,3.0,7.2]):\n",
      "[ 1.   2.5  3.   7.2]\n",
      "i3 := f1.astype(dtype='int64'):\n",
      "[1 2 3 7]\n",
      "\n",
      "  i3.dtype:'int64'\n",
      "  i3.size :'4'\n",
      "  i3.itemsize:'8'\n",
      "  i3.nbytes:'32'\n"
     ]
    }
   ],
   "source": [
    "# Assign arrays with a certain type\n",
    "i1=np.arange(10,dtype='int32')\n",
    "print(\"i1 := np.arange(10,dtype='int32'):\\n{0}\".format(i1))\n",
    "print(\"  i1.dtype:'{0}'\".format(i1.dtype))\n",
    "print(\"  i1.size :'{0}'\".format(i1.size))\n",
    "print(\"  i1.itemsize:'{0}'\".format(i1.itemsize))\n",
    "print(\"  i1.nbytes:'{0}'\".format(i1.nbytes))\n",
    "\n",
    "i2=np.arange(10,dtype='int64')\n",
    "print(\"\\ni2 := np.arange(10,dtype='int64'):\\n{0}\".format(i2))\n",
    "print(\"  i2.dtype:'{0}'\".format(i2.dtype))\n",
    "print(\"  i2.size :'{0}'\".format(i2.size))\n",
    "print(\"  i2.itemsize:'{0}'\".format(i2.itemsize))\n",
    "print(\"  i2.nbytes:'{0}'\".format(i2.nbytes))\n",
    "\n",
    "z1=np.arange(10,dtype='complex128')\n",
    "print(\"\\nz1 := np.arange(10,dtype='complex128'):\\n{0}\\n\".format(z1))\n",
    "print(\"  z1.dtype:'{0}'\".format(z1.dtype))\n",
    "print(\"  z1.size :'{0}'\".format(z1.size))\n",
    "print(\"  z1.itemsize:'{0}'\".format(z1.itemsize))\n",
    "print(\"  z1.nbytes:'{0}'\".format(z1.nbytes))\n",
    "\n",
    "# Change type of an array (cast function)\n",
    "f1=np.array([1.0,2.5,3.0,7.2])\n",
    "print(\"\\nf1 := np.array([1.0,2.5,3.0,7.2]):\\n{0}\".format(f1))\n",
    "i3=f1.astype('int64')\n",
    "print(\"i3 := f1.astype(dtype='int64'):\\n{0}\\n\".format(i3))\n",
    "print(\"  i3.dtype:'{0}'\".format(i3.dtype))\n",
    "print(\"  i3.size :'{0}'\".format(i3.size))\n",
    "print(\"  i3.itemsize:'{0}'\".format(i3.itemsize))\n",
    "print(\"  i3.nbytes:'{0}'\".format(i3.nbytes))"
   ]
  },
  {
   "cell_type": "markdown",
   "metadata": {},
   "source": [
    "#### b.Form of ndarray"
   ]
  },
  {
   "cell_type": "markdown",
   "metadata": {},
   "source": [
    "Numpy also supports the <font><b>initialization</b></font> of ndarrays.<br>\n",
    "A few of the most important ones:\n",
    "* diag(v,k=0)                            : returns a 2D diagonal matrix \n",
    "* empty(shape,dtype='float64',order='C') : returns a new array without initializing its entries\n",
    "* eye(N,M=None,k=0,dtype='float64')      : returns a 2D array diagonal matrix with 1s on the diagaonal\n",
    "* fromfunction                           : returns a new array based on a function\n",
    "* identity(n,dtype='float64')            : returns the $n$ x $n$ identity array\n",
    "* ones(shape,dtype='float64',order='C')  : returns a new array completely filled with 1s \n",
    "* zeros(shape,dtype='float64',order='C') : returns a new array completely filled with 0s"
   ]
  },
  {
   "cell_type": "code",
   "execution_count": 10,
   "metadata": {},
   "outputs": [
    {
     "name": "stdout",
     "output_type": "stream",
     "text": [
      "a1 np.diag(np.arange(1,7,dtype='int32')) :\n",
      "[[1 0 0 0 0 0]\n",
      " [0 2 0 0 0 0]\n",
      " [0 0 3 0 0 0]\n",
      " [0 0 0 4 0 0]\n",
      " [0 0 0 0 5 0]\n",
      " [0 0 0 0 0 6]]\n",
      "\n",
      "a2 np.empty((2,3)) :\n",
      "[[  0.00000000e+000   3.45845952e-323   6.91691904e-323]\n",
      " [  1.03753786e-322   1.38338381e-322   1.72922976e-322]]\n",
      "\n",
      "a3 np.eye(5,4,k=1,dtype='float64') :\n",
      "[[ 0.  1.  0.  0.]\n",
      " [ 0.  0.  1.  0.]\n",
      " [ 0.  0.  0.  1.]\n",
      " [ 0.  0.  0.  0.]\n",
      " [ 0.  0.  0.  0.]]\n",
      "\n",
      "a4 np.fromfunction(lambda x,y: x+2*y,(2,5),dtype='float64') :\n",
      "[[ 0.  2.  4.  6.  8.]\n",
      " [ 1.  3.  5.  7.  9.]]\n",
      "\n",
      "a5 np.identity(5,dtype='int64') :\n",
      "[[1 0 0 0 0]\n",
      " [0 1 0 0 0]\n",
      " [0 0 1 0 0]\n",
      " [0 0 0 1 0]\n",
      " [0 0 0 0 1]]\n",
      "\n",
      "a6 np.ones((2,7),dtype='int64') :\n",
      "[[1 1 1 1 1 1 1]\n",
      " [1 1 1 1 1 1 1]]\n",
      "\n",
      "a7 np.zeros((3,4),dtype='complex128') :\n",
      "[[ 0.+0.j  0.+0.j  0.+0.j  0.+0.j]\n",
      " [ 0.+0.j  0.+0.j  0.+0.j  0.+0.j]\n",
      " [ 0.+0.j  0.+0.j  0.+0.j  0.+0.j]]\n",
      "\n"
     ]
    }
   ],
   "source": [
    "a1=np.diag(np.arange(1,7,dtype='int32'))\n",
    "print(\"a1 np.diag(np.arange(1,7,dtype='int32')) :\\n{0}\\n\".format(a1))\n",
    "\n",
    "a2=np.empty((2,3))\n",
    "print(\"a2 np.empty((2,3)) :\\n{0}\\n\".format(a2))\n",
    "\n",
    "a3=np.eye(5,4,k=1)\n",
    "print(\"a3 np.eye(5,4,k=1,dtype='float64') :\\n{0}\\n\".format(a3))\n",
    "\n",
    "a4=np.fromfunction(lambda x,y: x+2*y,(2,5),dtype='float64')\n",
    "print(\"a4 np.fromfunction(lambda x,y: x+2*y,(2,5),dtype='float64') :\\n{0}\\n\".format(a4))\n",
    "\n",
    "a5=np.identity(5,dtype='int64')\n",
    "print(\"a5 np.identity(5,dtype='int64') :\\n{0}\\n\".format(a5))\n",
    "\n",
    "a6=np.ones((2,7),dtype='int64')\n",
    "print(\"a6 np.ones((2,7),dtype='int64') :\\n{0}\\n\".format(a6))\n",
    "\n",
    "a7=np.zeros((3,4),dtype='complex128')\n",
    "print(\"a7 np.zeros((3,4),dtype='complex128') :\\n{0}\\n\".format(a7))"
   ]
  },
  {
   "cell_type": "markdown",
   "metadata": {},
   "source": [
    "## Indexing and Slicing"
   ]
  },
  {
   "cell_type": "markdown",
   "metadata": {},
   "source": [
    "### 1D Array"
   ]
  },
  {
   "cell_type": "markdown",
   "metadata": {},
   "source": [
    "Very similar as in regular python"
   ]
  },
  {
   "cell_type": "code",
   "execution_count": 11,
   "metadata": {},
   "outputs": [
    {
     "name": "stdout",
     "output_type": "stream",
     "text": [
      "a := np.arange(21) :\n",
      "[ 0  1  2  3  4  5  6  7  8  9 10 11 12 13 14 15 16 17 18 19 20]\n",
      "  a[4]      :  4\n",
      "  a[5:]     :  [ 5  6  7  8  9 10 11 12 13 14 15 16 17 18 19 20]\n",
      "  a[2:12:3] :  [ 2  5  8 11]\n",
      "  a[2::5]   :  [ 2  7 12 17]\n",
      "  a[-5:-1]  :  [16 17 18 19]\n",
      "  a[-3:3:-1]:  [18 17 16 15 14 13 12 11 10  9  8  7  6  5  4]\n",
      "  a[-7::2]  :  [14 16 18 20]\n"
     ]
    }
   ],
   "source": [
    "import numpy as np\n",
    "a=np.arange(21)\n",
    "print(\"a := np.arange(21) :\\n{0}\".format(a))\n",
    "print(\"  a[4]      :  {0}\".format(a[4]))\n",
    "print(\"  a[5:]     :  {0}\".format(a[5:]))\n",
    "print(\"  a[2:12:3] :  {0}\".format(a[2:12:3]))\n",
    "print(\"  a[2::5]   :  {0}\".format(a[2::5]))\n",
    "print(\"  a[-5:-1]  :  {0}\".format(a[-5:-1]))\n",
    "print(\"  a[-3:3:-1]:  {0}\".format(a[-3:3:-1]))\n",
    "print(\"  a[-7::2]  :  {0}\".format(a[-7::2]))"
   ]
  },
  {
   "cell_type": "markdown",
   "metadata": {},
   "source": [
    "### ND Array"
   ]
  },
  {
   "cell_type": "markdown",
   "metadata": {},
   "source": [
    "* <font color=\"green\"><b>axis: fastest (right)  -> slowest (left) </b></font> (C style)\n",
    "* if #objects < #dim -> assume : for the remaining dimensions  \n",
    "* ellipsis: ... -> consider complete dimensions upto index\n",
    "\n",
    "How to <font color=\"color\"><b>remove</b></font> singleton dimensions?\n",
    "* numpy.squeeze(a,axis=None)\n",
    "  * a: input data\n",
    "  * axis : integer/tuple\n",
    "  * default: all singleton dimensions\n",
    "  \n",
    "How to <font color=\"color\"><b>add</b></font> singleton dimensions?\n",
    "* numpy.newaxis : <br>\n",
    "  * expand the dimension by 1 unit<br>\n",
    "  * to be added where you want to add the dimension"
   ]
  },
  {
   "cell_type": "code",
   "execution_count": 12,
   "metadata": {},
   "outputs": [
    {
     "name": "stdout",
     "output_type": "stream",
     "text": [
      "a := np.arange(24).reshape((2,3,4)) -> a.shape:(2, 3, 4) \n",
      "[[[ 0  1  2  3]\n",
      "  [ 4  5  6  7]\n",
      "  [ 8  9 10 11]]\n",
      "\n",
      " [[12 13 14 15]\n",
      "  [16 17 18 19]\n",
      "  [20 21 22 23]]]\n",
      "\n",
      "b := a[0,:,:] \n",
      "[[ 0  1  2  3]\n",
      " [ 4  5  6  7]\n",
      " [ 8  9 10 11]]\n",
      "\n",
      "  b.shape:(3, 4)\n",
      "\n",
      "c := a[:,1:2,2:4] \n",
      "[[[ 6  7]]\n",
      "\n",
      " [[18 19]]]\n",
      "\n",
      "  c.shape:(2, 1, 2)\n",
      "\n",
      "d := a[1] \n",
      "[[12 13 14 15]\n",
      " [16 17 18 19]\n",
      " [20 21 22 23]]\n",
      "\n",
      "  d.shape:(3, 4)\n",
      "\n",
      "e := np.arange(48).reshape((2,3,2,4)) \n",
      "[[[[ 0  1  2  3]\n",
      "   [ 4  5  6  7]]\n",
      "\n",
      "  [[ 8  9 10 11]\n",
      "   [12 13 14 15]]\n",
      "\n",
      "  [[16 17 18 19]\n",
      "   [20 21 22 23]]]\n",
      "\n",
      "\n",
      " [[[24 25 26 27]\n",
      "   [28 29 30 31]]\n",
      "\n",
      "  [[32 33 34 35]\n",
      "   [36 37 38 39]]\n",
      "\n",
      "  [[40 41 42 43]\n",
      "   [44 45 46 47]]]]\n",
      "\n",
      "  e.shape:(2, 3, 2, 4)\n",
      "\n",
      "f := e[...,1]\n",
      "[[[ 1  5]\n",
      "  [ 9 13]\n",
      "  [17 21]]\n",
      "\n",
      " [[25 29]\n",
      "  [33 37]\n",
      "  [41 45]]]\n",
      "\n",
      "  f.shape:(2, 3, 2)\n",
      "\n",
      "\n",
      "REMOVING SINGLETON DIMENSIONS::\n",
      "c := a[:,1:2,2:4] \n",
      "[[[ 6  7]]\n",
      "\n",
      " [[18 19]]]\n",
      "\n",
      "  c.shape:(2, 1, 2)\n",
      "g := np.squeeze(c)\n",
      "[[ 6  7]\n",
      " [18 19]]\n",
      "  g.shape:(2, 2)\n",
      "\n",
      "h := np.squeeze(c,axis=1)\n",
      "[[ 6  7]\n",
      " [18 19]]\n",
      "  h.shape:(2, 2)\n",
      "\n",
      "\n",
      "\n",
      "ADDING SINGLETON DIMENSIONS::\n",
      "\n",
      "d\n",
      "[[12 13 14 15]\n",
      " [16 17 18 19]\n",
      " [20 21 22 23]]\n",
      "\n",
      "  d.shape:(3, 4)\n",
      "\n",
      "p := d[:,np.newaxis,:]\n",
      "[[[12 13 14 15]]\n",
      "\n",
      " [[16 17 18 19]]\n",
      "\n",
      " [[20 21 22 23]]]\n",
      "\n",
      "  p.shape:(3, 1, 4)\n",
      "\n",
      "q := d[:,np.newaxis,np.newaxis,:,np.newaxis]\n",
      "[[[[[12]\n",
      "    [13]\n",
      "    [14]\n",
      "    [15]]]]\n",
      "\n",
      "\n",
      "\n",
      " [[[[16]\n",
      "    [17]\n",
      "    [18]\n",
      "    [19]]]]\n",
      "\n",
      "\n",
      "\n",
      " [[[[20]\n",
      "    [21]\n",
      "    [22]\n",
      "    [23]]]]]\n",
      "\n",
      "  q.shape:(3, 1, 1, 4, 1)\n"
     ]
    }
   ],
   "source": [
    "a=np.arange(24).reshape((2,3,4))\n",
    "print(\"a := np.arange(24).reshape((2,3,4)) -> a.shape:{0} \\n{1}\".format(a.shape,a))\n",
    "\n",
    "# Start slicing ...\n",
    "b=a[0,:,:]\n",
    "print(\"\\nb := a[0,:,:] \\n{0}\\n\".format(b))\n",
    "print(\"  b.shape:{0}\".format(b.shape))\n",
    "\n",
    "c=a[:,1:2,2:4]\n",
    "print(\"\\nc := a[:,1:2,2:4] \\n{0}\\n\".format(c))\n",
    "print(\"  c.shape:{0}\".format(c.shape))\n",
    "\n",
    "d=a[1]\n",
    "print(\"\\nd := a[1] \\n{0}\\n\".format(d))\n",
    "print(\"  d.shape:{0}\".format(d.shape))\n",
    "\n",
    "e=np.arange(48).reshape((2,3,2,4))\n",
    "print(\"\\ne := np.arange(48).reshape((2,3,2,4)) \\n{0}\\n\".format(e))\n",
    "print(\"  e.shape:{0}\".format(e.shape))\n",
    "\n",
    "f=e[...,1]\n",
    "print(\"\\nf := e[...,1]\\n{0}\\n\".format(f))\n",
    "print(\"  f.shape:{0}\".format(f.shape))\n",
    "\n",
    "# Remove singleton dimension (a.k.a. squeezing in Matlab)\n",
    "print(\"\\n\\nREMOVING SINGLETON DIMENSIONS::\")\n",
    "print(\"c := a[:,1:2,2:4] \\n{0}\\n\".format(c))\n",
    "print(\"  c.shape:{0}\".format(c.shape))\n",
    "\n",
    "g=np.squeeze(c)\n",
    "print(\"g := np.squeeze(c)\\n{0}\".format(g))\n",
    "print(\"  g.shape:{0}\\n\".format(g.shape))\n",
    "\n",
    "# or more explicitly if you want to target a particular axis\n",
    "h=np.squeeze(c,axis=1)\n",
    "print(\"h := np.squeeze(c,axis=1)\\n{0}\".format(h))\n",
    "print(\"  h.shape:{0}\\n\".format(h.shape))\n",
    "\n",
    "# Inverse of squeezing?\n",
    "print(\"\\n\\nADDING SINGLETON DIMENSIONS::\")\n",
    "print(\"\\nd\\n{0}\\n\".format(d))\n",
    "print(\"  d.shape:{0}\".format(d.shape))\n",
    "\n",
    "p=d[:,np.newaxis,:]\n",
    "print(\"\\np := d[:,np.newaxis,:]\\n{0}\\n\".format(p))\n",
    "print(\"  p.shape:{0}\".format(p.shape))\n",
    "\n",
    "q=d[:,np.newaxis,np.newaxis,:,np.newaxis]\n",
    "print(\"\\nq := d[:,np.newaxis,np.newaxis,:,np.newaxis]\\n{0}\\n\".format(q))\n",
    "print(\"  q.shape:{0}\".format(q.shape))"
   ]
  },
  {
   "cell_type": "markdown",
   "metadata": {},
   "source": [
    "#### Exercises:"
   ]
  },
  {
   "cell_type": "markdown",
   "metadata": {},
   "source": [
    "* Create a tridiagonal matrix (10x10) <br>\n",
    "  The diagonal elements have the value of the corresponding python row id.<br>\n",
    "  The matrix elements above and below the diagonal are<br> \n",
    "  the sum of the adjacent diagonal elements (hint: use the np.diag function)\n",
    "* Create a random matrix (7x7) with values [0,1[<br>\n",
    "  Replace the core 3x3 matrix of the above matrix with ones.\n",
    "* Create a (8x8) checkerboard containing 0 and 1's (type integer)\n",
    "  in 2 different ways:\n",
    "  * using the numpy tile function (use the help function)\n",
    "  * without using the tile function (slicing)"
   ]
  },
  {
   "cell_type": "markdown",
   "metadata": {},
   "source": [
    "## Iterating over arrays (elementary treatment) -> Add at the end"
   ]
  },
  {
   "cell_type": "markdown",
   "metadata": {},
   "source": [
    "There are several ways to loop over an numpy array\n",
    "* Traditional for loop\n",
    "* nditer (since Numpy 1.6) (default:read-only)"
   ]
  },
  {
   "cell_type": "code",
   "execution_count": 2,
   "metadata": {},
   "outputs": [
    {
     "name": "stdout",
     "output_type": "stream",
     "text": [
      "a := np.arange(5)\n",
      "[0 1 2 3 4]\n",
      "0 1 2 3 4 \n",
      "\n",
      "b := np.linspace(0,2,9).reshape((3,3)).astype('complex64')\n",
      "[[ 0.00+0.j  0.25+0.j  0.50+0.j]\n",
      " [ 0.75+0.j  1.00+0.j  1.25+0.j]\n",
      " [ 1.50+0.j  1.75+0.j  2.00+0.j]]\n",
      "Looping over the array b:\n",
      "  [ 0.00+0.j  0.25+0.j  0.50+0.j] \n",
      "  [ 0.75+0.j  1.00+0.j  1.25+0.j] \n",
      "  [ 1.50+0.j  1.75+0.j  2.00+0.j] \n"
     ]
    }
   ],
   "source": [
    "# Traditional approach \n",
    "# Loop over a 1D \n",
    "from __future__ import print_function\n",
    "import numpy as np\n",
    "a=np.arange(5)\n",
    "print(\"a := np.arange(5)\\n{0}\".format(a))\n",
    "for i in a:\n",
    "    print(\"{0} \".format(i),end='')\n",
    "print(\"\\n\") #newline\n",
    "\n",
    "# Iterating over a 2D\n",
    "b = np.linspace(0,2,9).reshape((3,3)).astype('complex64')\n",
    "print(\"b := np.linspace(0,2,9).reshape((3,3)).astype('complex64')\\n{0}\".format(b))\n",
    "print(\"Looping over the array b:\")\n",
    "for i in b:\n",
    "    print(\"  {0} \".format(i)) "
   ]
  },
  {
   "cell_type": "code",
   "execution_count": 3,
   "metadata": {},
   "outputs": [
    {
     "name": "stdout",
     "output_type": "stream",
     "text": [
      "a := np.arange(5)\n",
      "[0 1 2 3 4]\n",
      "0 1 2 3 4 \n",
      "\n",
      "b := np.linspace(0,2,9).reshape((3,3)).astype('complex64')\n",
      "[[ 0.00+0.j  0.25+0.j  0.50+0.j]\n",
      " [ 0.75+0.j  1.00+0.j  1.25+0.j]\n",
      " [ 1.50+0.j  1.75+0.j  2.00+0.j]]\n",
      "Looping in C-order:\n",
      "0j (0.25+0j) (0.5+0j) (0.75+0j) (1+0j) (1.25+0j) (1.5+0j) (1.75+0j) (2+0j) \n",
      "\n",
      "Looping in Fortran order:\n",
      "0j (0.75+0j) (1.5+0j) (0.25+0j) (1+0j) (1.75+0j) (0.5+0j) (1.25+0j) (2+0j) \n",
      "\n"
     ]
    }
   ],
   "source": [
    "# Iterating over a 1D\n",
    "from __future__ import print_function\n",
    "a=np.arange(5)\n",
    "print(\"a := np.arange(5)\\n{0}\".format(a))\n",
    "for i in np.nditer(a):\n",
    "    print(\"{0} \".format(i),end='')\n",
    "print(\"\\n\") #newline\n",
    "\n",
    "# Interating over a 2D\n",
    "b = np.linspace(0,2,9).reshape((3,3)).astype('complex64')\n",
    "print(\"b := np.linspace(0,2,9).reshape((3,3)).astype('complex64')\\n{0}\".format(b))\n",
    "print(\"Looping in C-order:\")\n",
    "for i in np.nditer(b,order='C'):\n",
    "    print(\"{0} \".format(i),end='')  \n",
    "print(\"\\n\")\n",
    "print(\"Looping in Fortran order:\")    \n",
    "for i in np.nditer(b,order='F'):\n",
    "    print(\"{0} \".format(i),end='')\n",
    "print(\"\\n\")    "
   ]
  },
  {
   "cell_type": "markdown",
   "metadata": {},
   "source": [
    "## Elementary operations on arrays"
   ]
  },
  {
   "cell_type": "markdown",
   "metadata": {},
   "source": [
    "Python operations:\n",
    "* done on an <font color=\"red\"><b>element-by-element</b></font> basis"
   ]
  },
  {
   "cell_type": "code",
   "execution_count": 4,
   "metadata": {},
   "outputs": [
    {
     "name": "stdout",
     "output_type": "stream",
     "text": [
      "a := np.arange(5)\n",
      "[0 1 2 3 4]\n",
      "\n",
      "b := np.arange(20,30,2)\n",
      "[20 22 24 26 28]\n",
      "\n",
      "a+b:\n",
      "[20 23 26 29 32]\n",
      "\n",
      "a*b:\n",
      "[  0  22  48  78 112]\n"
     ]
    }
   ],
   "source": [
    "# Example:\n",
    "a=np.arange(5)\n",
    "b=np.arange(20,30,2)\n",
    "print(\"a := np.arange(5)\\n{0}\".format(a))\n",
    "print(\"\\nb := np.arange(20,30,2)\\n{0}\".format(b))\n",
    "# Test multiplication and an addition\n",
    "print(\"\\na+b:\\n{0}\".format(a+b))\n",
    "print(\"\\na*b:\\n{0}\".format(a*b))"
   ]
  },
  {
   "cell_type": "markdown",
   "metadata": {},
   "source": [
    "<font color=\"green\"><b>How to perform a matrix multiplication in numpy?</b></font><br>\n",
    "Numpy has its \"matrix\" multiplication function: np.dot\n",
    "* 1D: dot-product\n",
    "* 2D: matrix-multiplication"
   ]
  },
  {
   "cell_type": "code",
   "execution_count": 5,
   "metadata": {},
   "outputs": [
    {
     "name": "stdout",
     "output_type": "stream",
     "text": [
      "Dot-product (1D)::\n",
      "  a:[1 2 3 4]\n",
      "  b:[3 4 5 6]\n",
      "    => a.b:50\n",
      "Matrix-product (2D)::\n",
      "  c:\n",
      "[[0 1 2]\n",
      " [3 4 5]]\n",
      "\n",
      "  d:\n",
      "[[ 0  1  2  3  4]\n",
      " [ 5  6  7  8  9]\n",
      " [10 11 12 13 14]]\n",
      "\n",
      "  c x d:\n",
      "[[ 25  28  31  34  37]\n",
      " [ 70  82  94 106 118]]\n",
      "Dot-product (1D) version 2:: (Broadcasting  => see later)\n",
      "    => a.b:50\n"
     ]
    }
   ],
   "source": [
    "# Examples 1D and 2D\n",
    "a=np.arange(1,5)\n",
    "b=np.arange(3,7)\n",
    "print(\"Dot-product (1D)::\")\n",
    "print(\"  a:{0}\".format(a))\n",
    "print(\"  b:{0}\".format(b))\n",
    "print(\"    => a.b:{0}\".format(np.dot(a,b)))\n",
    "\n",
    "print(\"Matrix-product (2D)::\")\n",
    "c=np.arange(6).reshape((2,3))\n",
    "d=np.arange(15).reshape((3,5))\n",
    "print(\"  c:\\n{0}\".format(c))\n",
    "print(\"\\n  d:\\n{0}\".format(d))\n",
    "print(\"\\n  c x d:\\n{0}\".format(np.dot(c,d)))\n",
    "\n",
    "print(\"Dot-product (1D) version 2:: (Broadcasting  => see later)\")\n",
    "print(\"    => a.b:{0}\".format(np.sum(np.dot(a,b.reshape(4,1))))) # Sum is required to convert [1x1] into scalar"
   ]
  },
  {
   "cell_type": "code",
   "execution_count": 6,
   "metadata": {},
   "outputs": [
    {
     "name": "stdout",
     "output_type": "stream",
     "text": [
      "c:[0 1 2 3]\n",
      "d:[ 0.    0.25  0.5   0.75  1.  ]\n",
      "c.shape:(4,)\n",
      "d.shape:(5,)\n"
     ]
    },
    {
     "ename": "ValueError",
     "evalue": "operands could not be broadcast together with shapes (4,) (5,) ",
     "output_type": "error",
     "traceback": [
      "\u001b[0;31m---------------------------------------------------------------------------\u001b[0m",
      "\u001b[0;31mValueError\u001b[0m                                Traceback (most recent call last)",
      "\u001b[0;32m<ipython-input-6-b9cd6da8b8cf>\u001b[0m in \u001b[0;36m<module>\u001b[0;34m()\u001b[0m\n\u001b[1;32m      7\u001b[0m \u001b[0;32mprint\u001b[0m\u001b[0;34m(\u001b[0m\u001b[0;34m\"c.shape:{0}\"\u001b[0m\u001b[0;34m.\u001b[0m\u001b[0mformat\u001b[0m\u001b[0;34m(\u001b[0m\u001b[0mc\u001b[0m\u001b[0;34m.\u001b[0m\u001b[0mshape\u001b[0m\u001b[0;34m)\u001b[0m\u001b[0;34m)\u001b[0m\u001b[0;34m\u001b[0m\u001b[0m\n\u001b[1;32m      8\u001b[0m \u001b[0;32mprint\u001b[0m\u001b[0;34m(\u001b[0m\u001b[0;34m\"d.shape:{0}\"\u001b[0m\u001b[0;34m.\u001b[0m\u001b[0mformat\u001b[0m\u001b[0;34m(\u001b[0m\u001b[0md\u001b[0m\u001b[0;34m.\u001b[0m\u001b[0mshape\u001b[0m\u001b[0;34m)\u001b[0m\u001b[0;34m)\u001b[0m\u001b[0;34m\u001b[0m\u001b[0m\n\u001b[0;32m----> 9\u001b[0;31m \u001b[0me\u001b[0m\u001b[0;34m=\u001b[0m\u001b[0mc\u001b[0m\u001b[0;34m+\u001b[0m\u001b[0md\u001b[0m\u001b[0;34m\u001b[0m\u001b[0m\n\u001b[0m",
      "\u001b[0;31mValueError\u001b[0m: operands could not be broadcast together with shapes (4,) (5,) "
     ]
    }
   ],
   "source": [
    "# Multiplying 2 vectors: \n",
    "# Ex1: Wrong dimension?\n",
    "c=np.arange(4)\n",
    "d=d=np.linspace(0,1,5)\n",
    "print(\"c:{0}\".format(c))\n",
    "print(\"d:{0}\".format(d))\n",
    "print(\"c.shape:{0}\".format(c.shape))\n",
    "print(\"d.shape:{0}\".format(d.shape))\n",
    "e=c+d"
   ]
  },
  {
   "cell_type": "code",
   "execution_count": 7,
   "metadata": {},
   "outputs": [
    {
     "name": "stdout",
     "output_type": "stream",
     "text": [
      "c:[0 1 2 3]\n",
      "d:[[ 0.  ]\n",
      " [ 0.25]\n",
      " [ 0.5 ]\n",
      " [ 0.75]\n",
      " [ 1.  ]]\n",
      "c.shape:(4,)\n",
      "d.shape:(5, 1)\n",
      "e:\n",
      "[[ 0.    1.    2.    3.  ]\n",
      " [ 0.25  1.25  2.25  3.25]\n",
      " [ 0.5   1.5   2.5   3.5 ]\n",
      " [ 0.75  1.75  2.75  3.75]\n",
      " [ 1.    2.    3.    4.  ]]\n",
      "e.shape:(5, 4)\n"
     ]
    }
   ],
   "source": [
    "# Multiplying 2 vectors: \n",
    "# Ex2: Wrong dimension?\n",
    "d=d.reshape((5,1))\n",
    "print(\"c:{0}\".format(c))\n",
    "print(\"d:{0}\".format(d))\n",
    "print(\"c.shape:{0}\".format(c.shape))\n",
    "print(\"d.shape:{0}\".format(d.shape))\n",
    "e=c+d\n",
    "print(\"e:\\n{0}\".format(e))\n",
    "print(\"e.shape:{0}\".format(e.shape))"
   ]
  },
  {
   "cell_type": "markdown",
   "metadata": {},
   "source": [
    "## Broadcasting"
   ]
  },
  {
   "cell_type": "markdown",
   "metadata": {},
   "source": [
    "* Definition :: required to operate on (some) arrays with mismatched shapes\n",
    "* Start with the trailing dimenions (i.e. from left to right)\n",
    "* Two dimensions of the array are compatible iff\n",
    "  * they have the same dimension\n",
    "  * one of the dimension is 1\n",
    "\n",
    "<font color=\"green\"><b>Both arrays can have a different #axes</b></font>"
   ]
  },
  {
   "cell_type": "code",
   "execution_count": 8,
   "metadata": {},
   "outputs": [
    {
     "name": "stdout",
     "output_type": "stream",
     "text": [
      "x:(4, 1)\n",
      "[[0]\n",
      " [1]\n",
      " [2]\n",
      " [3]]\n",
      "\n",
      "y:(5,)\n",
      "[ 1.  1.  1.  1.  1.]\n",
      "\n",
      "x+y:(4, 5)\n",
      "[[ 1.  1.  1.  1.  1.]\n",
      " [ 2.  2.  2.  2.  2.]\n",
      " [ 3.  3.  3.  3.  3.]\n",
      " [ 4.  4.  4.  4.  4.]]\n"
     ]
    }
   ],
   "source": [
    "# Example 1\n",
    "# Res: x: 4 x 1\n",
    "#      y:     5\n",
    "# -------------\n",
    "#    x+y: 4 x 5\n",
    "#---------------\n",
    "x = np.arange(4)\n",
    "x = x.reshape(4,1)\n",
    "print(\"x:{0}\\n{1}\".format(x.shape,x))\n",
    "y = np.ones(5)\n",
    "print(\"\\ny:{0}\\n{1}\".format(y.shape,y))\n",
    "print(\"\\nx+y:{0}\\n{1}\".format((x+y).shape,x+y))"
   ]
  },
  {
   "cell_type": "code",
   "execution_count": 9,
   "metadata": {},
   "outputs": [
    {
     "name": "stdout",
     "output_type": "stream",
     "text": [
      "x.shape:(13, 1, 7, 1)\n",
      "\n",
      "y.shape:(8, 7, 5)\n",
      "\n",
      "z.shape:(13, 8, 7, 5)\n"
     ]
    }
   ],
   "source": [
    "# Example 2\n",
    "# Res: x: 13 x 1 x 7 x 1\n",
    "#      y:      8 x 7 x 5\n",
    "# -------------\n",
    "#    res: 13 x 8 x 7 x 5\n",
    "#---------------\n",
    "x=np.arange(91).reshape((13,1,7,1))\n",
    "y=np.arange(8*7*5).reshape((8,7,5))\n",
    "z=x+y\n",
    "print(\"x.shape:{0}\".format(x.shape))\n",
    "print(\"\\ny.shape:{0}\".format(y.shape))\n",
    "print(\"\\nz.shape:{0}\".format(z.shape))"
   ]
  },
  {
   "cell_type": "code",
   "execution_count": 10,
   "metadata": {},
   "outputs": [
    {
     "ename": "ValueError",
     "evalue": "operands could not be broadcast together with shapes (3,8,3) (3,3) ",
     "output_type": "error",
     "traceback": [
      "\u001b[0;31m---------------------------------------------------------------------------\u001b[0m",
      "\u001b[0;31mValueError\u001b[0m                                Traceback (most recent call last)",
      "\u001b[0;32m<ipython-input-10-56b002c4e586>\u001b[0m in \u001b[0;36m<module>\u001b[0;34m()\u001b[0m\n\u001b[1;32m      7\u001b[0m \u001b[0mx\u001b[0m\u001b[0;34m=\u001b[0m\u001b[0mnp\u001b[0m\u001b[0;34m.\u001b[0m\u001b[0marange\u001b[0m\u001b[0;34m(\u001b[0m\u001b[0;36m72\u001b[0m\u001b[0;34m)\u001b[0m\u001b[0;34m.\u001b[0m\u001b[0mreshape\u001b[0m\u001b[0;34m(\u001b[0m\u001b[0;34m(\u001b[0m\u001b[0;36m3\u001b[0m\u001b[0;34m,\u001b[0m\u001b[0;36m8\u001b[0m\u001b[0;34m,\u001b[0m\u001b[0;36m3\u001b[0m\u001b[0;34m)\u001b[0m\u001b[0;34m)\u001b[0m\u001b[0;34m\u001b[0m\u001b[0m\n\u001b[1;32m      8\u001b[0m \u001b[0my\u001b[0m\u001b[0;34m=\u001b[0m\u001b[0mnp\u001b[0m\u001b[0;34m.\u001b[0m\u001b[0marange\u001b[0m\u001b[0;34m(\u001b[0m\u001b[0;36m9\u001b[0m\u001b[0;34m)\u001b[0m\u001b[0;34m.\u001b[0m\u001b[0mreshape\u001b[0m\u001b[0;34m(\u001b[0m\u001b[0;34m(\u001b[0m\u001b[0;36m3\u001b[0m\u001b[0;34m,\u001b[0m\u001b[0;36m3\u001b[0m\u001b[0;34m)\u001b[0m\u001b[0;34m)\u001b[0m\u001b[0;34m\u001b[0m\u001b[0m\n\u001b[0;32m----> 9\u001b[0;31m \u001b[0mz\u001b[0m\u001b[0;34m=\u001b[0m\u001b[0mx\u001b[0m\u001b[0;34m+\u001b[0m\u001b[0my\u001b[0m\u001b[0;34m\u001b[0m\u001b[0m\n\u001b[0m\u001b[1;32m     10\u001b[0m \u001b[0;32mprint\u001b[0m\u001b[0;34m(\u001b[0m\u001b[0;34m\"x.shape:{0}\"\u001b[0m\u001b[0;34m.\u001b[0m\u001b[0mformat\u001b[0m\u001b[0;34m(\u001b[0m\u001b[0mx\u001b[0m\u001b[0;34m.\u001b[0m\u001b[0mshape\u001b[0m\u001b[0;34m)\u001b[0m\u001b[0;34m)\u001b[0m\u001b[0;34m\u001b[0m\u001b[0m\n\u001b[1;32m     11\u001b[0m \u001b[0;32mprint\u001b[0m\u001b[0;34m(\u001b[0m\u001b[0;34m\"\\ny.shape:{0}\"\u001b[0m\u001b[0;34m.\u001b[0m\u001b[0mformat\u001b[0m\u001b[0;34m(\u001b[0m\u001b[0my\u001b[0m\u001b[0;34m.\u001b[0m\u001b[0mshape\u001b[0m\u001b[0;34m)\u001b[0m\u001b[0;34m)\u001b[0m\u001b[0;34m\u001b[0m\u001b[0m\n",
      "\u001b[0;31mValueError\u001b[0m: operands could not be broadcast together with shapes (3,8,3) (3,3) "
     ]
    }
   ],
   "source": [
    "# Example 3:\n",
    "# Res: x: 3 x 8 x 3\n",
    "#      y:     3 x 1\n",
    "# -------------\n",
    "#    res:     Error !! (8 & 3)\n",
    "#---------------\n",
    "x=np.arange(72).reshape((3,8,3))\n",
    "y=np.arange(9).reshape((3,3))\n",
    "z=x+y\n",
    "print(\"x.shape:{0}\".format(x.shape))\n",
    "print(\"\\ny.shape:{0}\".format(y.shape))\n",
    "print(\"\\nz.shape:{0}\".format(z.shape))"
   ]
  },
  {
   "cell_type": "markdown",
   "metadata": {},
   "source": [
    "#### Exercise"
   ]
  },
  {
   "cell_type": "markdown",
   "metadata": {},
   "source": [
    "* We have the following 2 random matrices:\n",
    "  * A = np.random.random((8,1,8))\n",
    "  * B = np.random.random((8,8,1))<br>\n",
    "    Calculate the matrix Z (8x8) where each element of Z is given by:<br>\n",
    "    $Z_{i,j} = A_{i,1,j} + B_{i,j,1}$"
   ]
  },
  {
   "cell_type": "markdown",
   "metadata": {},
   "source": [
    "## Universal functions in numpy"
   ]
  },
  {
   "cell_type": "markdown",
   "metadata": {},
   "source": [
    "A universal function (ufunc)  $f$ is a function\n",
    "* which takes an array $in$ as input\n",
    "* returns an array $out$ as output <br> \n",
    "  where $out[i]=f(in[i])$\n",
    "\n",
    "If two arrays have different shapes <font color=\"green\"><b>broadcasting</b></font> will be applied<br>\n",
    "The following ufuncs are currently available:<br>\n",
    "http://docs.scipy.org/doc/numpy/reference/ufuncs.html#available-ufuncs\n",
    "\n",
    "This concept is similar to the map function in standard Python."
   ]
  },
  {
   "cell_type": "code",
   "execution_count": 11,
   "metadata": {},
   "outputs": [
    {
     "name": "stdout",
     "output_type": "stream",
     "text": [
      " x:(13,)\n",
      "[ 90  91  92  93  94  95  96  97  98  99 100 101 102]\n",
      " y:(5, 1)\n",
      "[[2]\n",
      " [3]\n",
      " [4]\n",
      " [5]\n",
      " [6]]\n",
      " z:(5, 13)\n",
      "[[0 1 0 1 0 1 0 1 0 1 0 1 0]\n",
      " [0 1 2 0 1 2 0 1 2 0 1 2 0]\n",
      " [2 3 0 1 2 3 0 1 2 3 0 1 2]\n",
      " [0 1 2 3 4 0 1 2 3 4 0 1 2]\n",
      " [0 1 2 3 4 5 0 1 2 3 4 5 0]]\n"
     ]
    }
   ],
   "source": [
    "# Example 1: wo BC\n",
    "import numpy as np\n",
    "x=np.random.random((7,3,14))\n",
    "y=np.exp(x)\n",
    "#print(x)\n",
    "#print(y)\n",
    "\n",
    "# Example 2: w. BC\n",
    "x=np.arange(90,103,dtype=int)\n",
    "y=np.arange(2,7,dtype=int).reshape((5,1))\n",
    "print(\" x:{0}\\n{1}\".format(x.shape,x))\n",
    "print(\" y:{0}\\n{1}\".format(y.shape,y))\n",
    "z=np.mod(x,y)\n",
    "print(\" z:{0}\\n{1}\".format(z.shape,z))"
   ]
  },
  {
   "cell_type": "markdown",
   "metadata": {},
   "source": [
    "#### Exercise"
   ]
  },
  {
   "cell_type": "markdown",
   "metadata": {},
   "source": [
    "* In Lecture 1, the following exercise was presented:\n",
    "  * Write a function (module sn.py) to calculate the partial sum <br> \n",
    "    $S_n := \\sum_{k=1}^{k=n}  \\frac{sin(k)}{k^2} $ <br>\n",
    "    \n",
    "* Calculate the partial sum $S_n$ using numpy (among them universal functions)\n",
    "* Make a plot $S_n=f(n)$ using matplotlib (start e.g. at k=100)"
   ]
  },
  {
   "cell_type": "markdown",
   "metadata": {},
   "source": [
    "## View vs. copy"
   ]
  },
  {
   "cell_type": "markdown",
   "metadata": {},
   "source": [
    "### Assignment"
   ]
  },
  {
   "cell_type": "code",
   "execution_count": 13,
   "metadata": {},
   "outputs": [
    {
     "name": "stdout",
     "output_type": "stream",
     "text": [
      "a := np.arange(10)\n",
      "[0 1 2 3 4 5 6 7 8 9]\n",
      "  b := a && b[5]=100\n",
      "[  0   1   2   3   4 100   6   7   8   9]\n",
      "  a : \n",
      "[  0   1   2   3   4 100   6   7   8   9]\n",
      "\n",
      "  b.shape: (2, 5)\n",
      "  a.shape: (2, 5)\n",
      "\n"
     ]
    }
   ],
   "source": [
    "# Case 1: Assignment/shape examples\n",
    "import numpy as np\n",
    "a=np.arange(10)\n",
    "print(\"a := np.arange(10)\\n{0}\".format(a))\n",
    "b=a\n",
    "b[5]=100\n",
    "print(\"  b := a && b[5]=100\\n{0}\".format(b))\n",
    "print(\"  a : \\n{0}\\n\".format(a))\n",
    "\n",
    "b.shape=(2,5)\n",
    "print(\"  b.shape: {0}\".format(b.shape))\n",
    "print(\"  a.shape: {0}\\n\".format(a.shape))"
   ]
  },
  {
   "cell_type": "markdown",
   "metadata": {},
   "source": [
    "### Slicing & view:"
   ]
  },
  {
   "cell_type": "markdown",
   "metadata": {},
   "source": [
    "View := an array of which the data refers to another array.<br>\n",
    "Slicing an array A generates an array B that is a view of the array A."
   ]
  },
  {
   "cell_type": "code",
   "execution_count": 14,
   "metadata": {},
   "outputs": [
    {
     "name": "stdout",
     "output_type": "stream",
     "text": [
      "b : \n",
      "[[[ 0.  0.]\n",
      "  [ 0.  0.]]\n",
      "\n",
      " [[ 0.  0.]\n",
      "  [ 0.  0.]]]\n",
      "\n",
      "a : \n",
      "[[[ 0.84870932  0.25525878  0.3476126 ]\n",
      "  [ 0.          0.          0.83761852]\n",
      "  [ 0.          0.          0.3182053 ]\n",
      "  [ 0.16666542  0.7583423   0.15669113]]\n",
      "\n",
      " [[ 0.54671217  0.95581783  0.42774716]\n",
      "  [ 0.          0.          0.60381969]\n",
      "  [ 0.          0.          0.41908712]\n",
      "  [ 0.03605101  0.13657479  0.02078326]]]\n",
      "\n",
      "a : \n",
      "[[[ 1.  1.  1.]\n",
      "  [ 1.  1.  1.]\n",
      "  [ 1.  1.  1.]\n",
      "  [ 1.  1.  1.]]\n",
      "\n",
      " [[ 1.  1.  1.]\n",
      "  [ 1.  1.  1.]\n",
      "  [ 1.  1.  1.]\n",
      "  [ 1.  1.  1.]]]\n",
      "\n",
      "b : \n",
      "[[[ 1.  1.]\n",
      "  [ 1.  1.]]\n",
      "\n",
      " [[ 1.  1.]\n",
      "  [ 1.  1.]]]\n",
      "\n"
     ]
    }
   ],
   "source": [
    "# Example slicing/view\n",
    "a=np.random.random((2,4,3))\n",
    "b=a[:,1:3,0:2]\n",
    "b[:]=0.0\n",
    "print(\"b : \\n{0}\\n\".format(b))\n",
    "print(\"a : \\n{0}\\n\".format(a))\n",
    "\n",
    "a[:]=1.\n",
    "print(\"a : \\n{0}\\n\".format(a))\n",
    "print(\"b : \\n{0}\\n\".format(b))"
   ]
  },
  {
   "cell_type": "markdown",
   "metadata": {},
   "source": [
    "### Deep copy"
   ]
  },
  {
   "cell_type": "code",
   "execution_count": 15,
   "metadata": {},
   "outputs": [
    {
     "name": "stdout",
     "output_type": "stream",
     "text": [
      "c : \n",
      "[[ 0.6519786   0.04592382  0.95132836]\n",
      " [ 0.98726213  0.05314774  0.95765649]]\n",
      "\n",
      "d := c.copy() \n",
      "[[ 0.6519786   0.04592382  0.95132836]\n",
      " [ 0.98726213  0.05314774  0.95765649]]\n",
      "\n",
      "d[:] := 0. \n",
      "[[ 0.  0.  0.]\n",
      " [ 0.  0.  0.]]\n",
      "\n",
      "c : \n",
      "[[ 0.6519786   0.04592382  0.95132836]\n",
      " [ 0.98726213  0.05314774  0.95765649]]\n",
      "\n"
     ]
    }
   ],
   "source": [
    "c=np.random.random((2,3))\n",
    "d=c.copy()\n",
    "print(\"c : \\n{0}\\n\".format(c))\n",
    "print(\"d := c.copy() \\n{0}\\n\".format(d))\n",
    "d[:]=0.0\n",
    "print(\"d[:] := 0. \\n{0}\\n\".format(d))\n",
    "print(\"c : \\n{0}\\n\".format(c))"
   ]
  },
  {
   "cell_type": "markdown",
   "metadata": {},
   "source": [
    "### But be careful!"
   ]
  },
  {
   "cell_type": "code",
   "execution_count": 16,
   "metadata": {},
   "outputs": [
    {
     "name": "stdout",
     "output_type": "stream",
     "text": [
      "a : \n",
      "[[[ 0.17174643  0.94742669  0.7959688 ]\n",
      "  [ 0.70722058  0.90477539  0.97457984]\n",
      "  [ 0.67618836  0.40960567  0.89494941]\n",
      "  [ 0.98139628  0.59766093  0.62201199]]\n",
      "\n",
      " [[ 0.57764588  0.5439545   0.34367732]\n",
      "  [ 0.99778492  0.24257806  0.68976436]\n",
      "  [ 0.02451602  0.48428664  0.73010793]\n",
      "  [ 0.50945491  0.65472437  0.55774496]]]\n",
      "\n",
      "b : \n",
      "[[[ 0.70722058  0.90477539]\n",
      "  [ 0.67618836  0.40960567]]\n",
      "\n",
      " [[ 0.99778492  0.24257806]\n",
      "  [ 0.02451602  0.48428664]]]\n",
      "\n",
      "b : \n",
      "[[[ 5.70722058  5.90477539]\n",
      "  [ 5.67618836  5.40960567]]\n",
      "\n",
      " [[ 5.99778492  5.24257806]\n",
      "  [ 5.02451602  5.48428664]]]\n",
      "\n",
      "a : \n",
      "[[[ 0.17174643  0.94742669  0.7959688 ]\n",
      "  [ 0.70722058  0.90477539  0.97457984]\n",
      "  [ 0.67618836  0.40960567  0.89494941]\n",
      "  [ 0.98139628  0.59766093  0.62201199]]\n",
      "\n",
      " [[ 0.57764588  0.5439545   0.34367732]\n",
      "  [ 0.99778492  0.24257806  0.68976436]\n",
      "  [ 0.02451602  0.48428664  0.73010793]\n",
      "  [ 0.50945491  0.65472437  0.55774496]]]\n",
      "\n"
     ]
    }
   ],
   "source": [
    "a=np.random.random((2,4,3))\n",
    "b=a[:,1:3,0:2]\n",
    "print(\"a : \\n{0}\\n\".format(a))\n",
    "print(\"b : \\n{0}\\n\".format(b))\n",
    "# The \"+\" operator will create a copy \n",
    "b = b + 5  \n",
    "print(\"b : \\n{0}\\n\".format(b))\n",
    "print(\"a : \\n{0}\\n\".format(a))"
   ]
  },
  {
   "cell_type": "markdown",
   "metadata": {},
   "source": [
    "## Masked arrays"
   ]
  },
  {
   "cell_type": "markdown",
   "metadata": {},
   "source": [
    "Certain arrays contain elements you do not want to consider (e.g. NaN)<br>\n",
    "In numpy the mask array performs this task.<br>\n",
    "The numpy masked array combines:\n",
    "* numpy ndarray\n",
    "* mask\n",
    "\n",
    "To invoke:<br>\n",
    "import numpy.ma\n",
    "\n",
    "<font color=\"green\"><b>\n",
    "All the elements which should not be considered need to be masked.\n",
    "</b></font>"
   ]
  },
  {
   "cell_type": "code",
   "execution_count": 17,
   "metadata": {},
   "outputs": [
    {
     "name": "stdout",
     "output_type": "stream",
     "text": [
      "x := np.array([-1,2,3,7,-13,8]) \n",
      "[ -1   2   3   7 -13   8]\n",
      "\n",
      "mx := ma.masked_array(x,mask=[True,False,False,False,True,False]) \n",
      "[-- 2 3 7 -- 8]\n",
      "\n",
      "mx.sum(): 20\n",
      "y := np.array([1,2,np.nan,6,np.nan]) \n",
      "[  1.   2.  nan   6.  nan]\n",
      "y.mean(): nan\n",
      "\n",
      "my := ma.masked_array(y,mask=[False,False,True,False,True]) \n",
      "[1.0 2.0 -- 6.0 --]\n",
      "my.mean(): 3.0\n",
      "my2.mean(): 3.0\n"
     ]
    }
   ],
   "source": [
    "# Example 1: sum all positive el.\n",
    "import numpy.ma as ma\n",
    "x=np.array([-1,2,3,7,-13,8])\n",
    "print(\"x := np.array([-1,2,3,7,-13,8]) \\n{0}\\n\".format(x))\n",
    "\n",
    "mx=ma.masked_array(x,mask=[True,False,False,False,True,False])\n",
    "print(\"mx := ma.masked_array(x,mask=[True,False,False,False,True,False]) \\n{0}\\n\".format(mx))\n",
    "print(\"mx.sum(): {0}\".format(mx.sum()))\n",
    "\n",
    "# Example 2: Discard the NaN values to calc. the mean of an array\n",
    "y=np.array([1,2,np.nan,6,np.nan])\n",
    "print(\"y := np.array([1,2,np.nan,6,np.nan]) \\n{0}\".format(y))\n",
    "print(\"y.mean(): {0}\".format(y.mean()))\n",
    "\n",
    "# Solution 1:\n",
    "my=ma.masked_array(y,mask=[False,False,True,False,True])\n",
    "print(\"\\nmy := ma.masked_array(y,mask=[False,False,True,False,True]) \\n{0}\".format(my))\n",
    "print(\"my.mean(): {0}\".format(my.mean()))\n",
    "\n",
    "# Solution 2:\n",
    "my2=ma.masked_array(y,np.isnan(y))\n",
    "my2.mean()\n",
    "print(\"my2.mean(): {0}\".format(my2.mean()))"
   ]
  },
  {
   "cell_type": "markdown",
   "metadata": {},
   "source": [
    "### Exercise:"
   ]
  },
  {
   "cell_type": "markdown",
   "metadata": {},
   "source": [
    "* Generate a 5x10 array A (dtype:float64) with random numbers $x \\in [0,1[$\n",
    "* Write a function that calculates the average value of only those $x$<br> \n",
    "  where $ \\alpha <= x <= \\beta $ (use masked arrays) \n",
    "* You can set $\\alpha := 0.2$ and $\\beta := 0.4$ to test your code"
   ]
  },
  {
   "cell_type": "markdown",
   "metadata": {},
   "source": [
    "<b>What else is to be discussed?</b>\n",
    "* masked arrays\n",
    "* matrix2D\n",
    "* transpose,...\n",
    "* working along axis \n",
    "\n",
    "* basic linear algebra\n",
    "* introduction to scipy \n",
    "* matplotlib\n",
    "* eigenvalue problem quantum mechanics"
   ]
  },
  {
   "cell_type": "markdown",
   "metadata": {},
   "source": [
    "## Linear Algebra/FFT"
   ]
  },
  {
   "cell_type": "markdown",
   "metadata": {},
   "source": [
    "Numpy contains a <font color=\"red\"><b>few basic linear algebra</b></font> routines.<br>\n",
    "They can be found in the following modules:<br>\n",
    "* numpy\n",
    "* numpy.linalg"
   ]
  },
  {
   "cell_type": "markdown",
   "metadata": {},
   "source": [
    "The module <font color=\"red\"><b>numpy</b></font> possesses a few functions.<br> \n",
    "Among them you will find:\n",
    "* numpy.dot  \n",
    "* numpy.kron\n",
    "* numpy.trace \n",
    "* numpy.transpose\n",
    "\n",
    "Other useful functions can be found in the module <font color=\"red\"><b>numpy.linalg</b></font>, such as:\n",
    "* numpy.linalg.matrix_power\n",
    "* numpy.linalg.cholesky\n",
    "* numpy.linalg.svd\n",
    "* numpy.linalg.det\n",
    "* numpy.linalg.solve\n",
    "* numpy.linalg.inv\n",
    "* numpy.linalg.eig\n",
    "* ..."
   ]
  },
  {
   "cell_type": "code",
   "execution_count": 18,
   "metadata": {},
   "outputs": [
    {
     "name": "stdout",
     "output_type": "stream",
     "text": [
      "a :\n",
      "[[  9.     8.1   12.6   -3.9 ]\n",
      " [  8.1    9.54  13.14   0.39]\n",
      " [ 12.6   13.14  70.92  36.54]\n",
      " [ -3.9    0.39  36.54  52.05]]\n",
      "\n",
      "  Eigenvalues:\n",
      "[ 101.29629647   33.2498673     0.7209184     6.24291783]\n",
      "\n",
      "  Cholesky decomposition: a=l.l^H\n",
      "[[ 3.   0.   0.   0. ]\n",
      " [ 2.7  1.5  0.   0. ]\n",
      " [ 4.2  1.2  7.2  0. ]\n",
      " [-1.3  2.6  5.4  3.8]]\n",
      "\n",
      "  SVD: m=U.s.Vh\n",
      "    U :\n",
      "[[ 0.  0.  1.  0.]\n",
      " [ 0.  1.  0.  0.]\n",
      " [ 0.  0.  0. -1.]\n",
      " [ 1.  0.  0.  0.]]\n",
      "\n",
      "    s :\n",
      "[ 4.          3.          2.23606798  0.        ]\n",
      "\n",
      "    Vh:\n",
      "[[-0.          1.          0.          0.          0.        ]\n",
      " [-0.          0.          1.          0.          0.        ]\n",
      " [ 0.4472136   0.          0.          0.          0.89442719]\n",
      " [ 0.          0.          0.          1.          0.        ]\n",
      " [-0.89442719  0.          0.          0.          0.4472136 ]]\n",
      "\n"
     ]
    }
   ],
   "source": [
    "import numpy as np\n",
    "import numpy.linalg as la\n",
    "\n",
    "a=np.array([[  9.  ,   8.1 ,  12.6 ,  -3.9 ],\n",
    "            [  8.1 ,   9.54,  13.14,   0.39],\n",
    "            [ 12.6 ,  13.14,  70.92,  36.54],\n",
    "            [ -3.9 ,   0.39,  36.54,  52.05]])\n",
    "print(\"a :\\n{0}\\n\".format(a))\n",
    "\n",
    "w,v=la.eig(a)\n",
    "print(\"  Eigenvalues:\\n{0}\\n\".format(w))\n",
    "\n",
    "l=la.cholesky(a)\n",
    "print(\"  Cholesky decomposition: a=l.l^H\\n{0}\\n\".format(l))\n",
    "\n",
    "m=np.array([[1,0,0,0,2],\n",
    "             [0,0,3,0,0],\n",
    "             [0,0,0,0,0],\n",
    "             [0,4,0,0,0]])\n",
    "U,s,Vh=la.svd(m)\n",
    "print(\"  SVD: m=U.s.Vh\")\n",
    "print(\"    U :\\n{0}\\n\".format(U))\n",
    "print(\"    s :\\n{0}\\n\".format(s))\n",
    "print(\"    Vh:\\n{0}\\n\".format(Vh))"
   ]
  },
  {
   "cell_type": "markdown",
   "metadata": {},
   "source": [
    "The module <font color=\"red\"><b>numpy.fft</b></font> contains discrete fourier transforms."
   ]
  },
  {
   "cell_type": "code",
   "execution_count": 19,
   "metadata": {},
   "outputs": [
    {
     "data": {
      "image/png": "[encoded data removed]",
      "text/plain": [
       "<matplotlib.figure.Figure at 0x2b1a49366e90>"
      ]
     },
     "metadata": {},
     "output_type": "display_data"
    }
   ],
   "source": [
    "import numpy as np\n",
    "import numpy.fft as nf\n",
    "from math import pi\n",
    "import matplotlib.pyplot as plt\n",
    "\n",
    "tott=4.0  # Total time\n",
    "dt=1./100 # Sampling rate\n",
    "t=np.linspace(0,tott,tott/dt)\n",
    "s=0.30*np.sin(2*pi*3.5*t)  +0.80*np.sin(2*pi*5.0*t) + \\\n",
    "  0.65*np.sin(2*pi*8.0*t) + 1.15*np.sin(2*pi*16.0*t)\n",
    "S=nf.fft(s)\n",
    "n=S.size/2\n",
    "amp=np.abs(S)/n\n",
    "freq=np.linspace(0,80,80)/(2*n*dt)\n",
    "\n",
    "fig=plt.figure()\n",
    "ax1=fig.add_subplot(211)\n",
    "ax1.plot(t,s,color='red')\n",
    "ax1.set_xlabel(r'$t$/s')\n",
    "ax1.set_ylabel(r'$y(t)$')\n",
    "ax1.set_title(r'Signal as function of $t$')\n",
    "ax2=fig.add_subplot(212)\n",
    "ax2.plot(freq,amp[:80],color='green')\n",
    "ax2.set_xlabel(r'$\\omega$/Hz')\n",
    "ax2.set_ylabel(r'$A$')\n",
    "plt.grid(True)\n",
    "plt.show()"
   ]
  },
  {
   "cell_type": "markdown",
   "metadata": {},
   "source": [
    "## Numpy as corner stone for a few other packages"
   ]
  },
  {
   "cell_type": "markdown",
   "metadata": {},
   "source": [
    "### Scipy"
   ]
  },
  {
   "cell_type": "markdown",
   "metadata": {},
   "source": [
    "Scipy contains specialized modules related to science & engineering.<br>\n",
    "Among them we have the following modules:\n",
    "* <font color=\"red\"><b> scipy.special  :</b></font>  special functions \n",
    "* <font color=\"red\"><b> scipy.integrate:</b></font>  numerical integration\n",
    "* <font color=\"red\"><b> scipy.optimize :</b></font>  optimization\n",
    "* <font color=\"red\"><b> scipy.fftpack  :</b></font>  fourier transform\n",
    "* <font color=\"red\"><b> scipy.signal   :</b></font>  signal processing\n",
    "* <font color=\"red\"><b> scipy.linalg   :</b></font>  linear algebra\n",
    "* <font color=\"red\"><b> scipy.stats    :</b></font>  statistics\n",
    "* <font color=\"red\"><b> scipy.ndimage  :</b></font>  image processing\n",
    "* ..."
   ]
  },
  {
   "cell_type": "code",
   "execution_count": 20,
   "metadata": {},
   "outputs": [
    {
     "name": "stdout",
     "output_type": "stream",
     "text": [
      " y1:(0.25, 2.7755575615628914e-15) and should be 0.25\n",
      " y2:(0.9999999999999997, 1.017819145094224e-08) and should be 1.00\n"
     ]
    }
   ],
   "source": [
    "# Example 1: Integration\n",
    "import scipy\n",
    "from scipy.integrate import quad\n",
    "from math import pi,sqrt,exp\n",
    "\n",
    "y1=quad(lambda x: x**3, 0.0, 1.0)\n",
    "y2=quad(lambda x:1/(sqrt(2.0*pi))*exp(-x*x/2.),-np.inf,np.inf)\n",
    "print(\" y1:{0} and should be 0.25\".format(y1))\n",
    "print(\" y2:{0} and should be 1.00\".format(y2))"
   ]
  },
  {
   "cell_type": "code",
   "execution_count": 21,
   "metadata": {},
   "outputs": [
    {
     "data": {
      "image/png": "[encoded data removed]",
      "text/plain": [
       "<matplotlib.figure.Figure at 0x2b1a2bbf8a50>"
      ]
     },
     "metadata": {},
     "output_type": "display_data"
    }
   ],
   "source": [
    "# Example 2: Special functions\n",
    "import numpy as np\n",
    "import matplotlib.pyplot as plt\n",
    "from math import exp, factorial, pow, pi, sqrt\n",
    "from scipy.special import hermite\n",
    "\n",
    "preA=np.array([sqrt(1.0/( pow(2.0,i)*factorial(i)*\\\n",
    "sqrt(pi))) for i in range(26)])\n",
    "xi=np.linspace(-8.0,8.0,641)\n",
    "prob0=(preA[0]*np.exp(-xi*xi/2.)* hermite(0)(xi))**2\n",
    "prob1=(preA[1]*np.exp(-xi*xi/2.)* hermite(1)(xi))**2\n",
    "prob5=(preA[5]*np.exp(-xi*xi/2.)* hermite(5)(xi))**2\n",
    "prob10=(preA[10]*np.exp(-xi*xi/2.)* hermite(10)(xi))**2\n",
    "prob25=(preA[25]*np.exp(-xi*xi/2.)* hermite(25)(xi))**2\n",
    "plt.plot(xi,prob0,label=r'$|\\psi_0(\\xi)|^2$')\n",
    "plt.plot(xi,prob1,label=r'$|\\psi_1(\\xi)|^2$')\n",
    "plt.plot(xi,prob5,label=r'$|\\psi_5(\\xi)|^2$')\n",
    "plt.plot(xi,prob10,label=r'$|\\psi_{10}(\\xi)|^2$')\n",
    "plt.plot(xi,prob25,label=r'$|\\psi_{25}(\\xi)|^2$')\n",
    "plt.title(r'$|\\psi_n(\\xi)|^2$ for the QM harm. oscillator')\n",
    "plt.xlabel(r'$\\xi$')\n",
    "plt.ylabel(r'$|\\psi_n(\\xi)|^2$')\n",
    "plt.legend()\n",
    "plt.grid(True)\n",
    "plt.show()"
   ]
  },
  {
   "cell_type": "markdown",
   "metadata": {},
   "source": [
    "### Matplotlib"
   ]
  },
  {
   "cell_type": "markdown",
   "metadata": {},
   "source": [
    "2D plotting library:\n",
    "* very high quality pictures\n",
    "* can be combined with $\\LaTeX$\n",
    "* for more info, see:http://matplotlib.org/\n",
    "  "
   ]
  },
  {
   "cell_type": "code",
   "execution_count": null,
   "metadata": {
    "collapsed": true
   },
   "outputs": [],
   "source": []
  }
 ],
 "metadata": {
  "kernelspec": {
   "display_name": "Python 3",
   "language": "python",
   "name": "python3"
  },
  "language_info": {
   "codemirror_mode": {
    "name": "ipython",
    "version": 3
   },
   "file_extension": ".py",
   "mimetype": "text/x-python",
   "name": "python",
   "nbconvert_exporter": "python",
   "pygments_lexer": "ipython3",
   "version": "3.5.2"
  }
 },
 "nbformat": 4,
 "nbformat_minor": 1
}
